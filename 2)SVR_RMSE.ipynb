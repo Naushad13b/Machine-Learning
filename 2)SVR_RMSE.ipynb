{
  "nbformat": 4,
  "nbformat_minor": 0,
  "metadata": {
    "colab": {
      "name": "2)SVR_RMSE.ipynb",
      "provenance": [],
      "authorship_tag": "ABX9TyOQ9CAd9SMGAoQOsESuOc78",
      "include_colab_link": true
    },
    "kernelspec": {
      "name": "python3",
      "display_name": "Python 3"
    },
    "language_info": {
      "name": "python"
    }
  },
  "cells": [
    {
      "cell_type": "markdown",
      "metadata": {
        "id": "view-in-github",
        "colab_type": "text"
      },
      "source": [
        "<a href=\"https://colab.research.google.com/github/Naushad13b/Machine-Learning/blob/main/2)SVR_RMSE.ipynb\" target=\"_parent\"><img src=\"https://colab.research.google.com/assets/colab-badge.svg\" alt=\"Open In Colab\"/></a>"
      ]
    },
    {
      "cell_type": "code",
      "execution_count": null,
      "metadata": {
        "id": "CTWaz44WZpfb"
      },
      "outputs": [],
      "source": [
        "# Import the libraries\n",
        "import numpy as np\n",
        "import pandas as pd\n",
        "import matplotlib.pyplot as plt"
      ]
    },
    {
      "cell_type": "code",
      "source": [
        "# Import the dataset\n",
        "dataset = pd.read_csv('allcities.csv')\n"
      ],
      "metadata": {
        "id": "oKFbuhPkaiMp"
      },
      "execution_count": null,
      "outputs": []
    },
    {
      "cell_type": "code",
      "source": [
        "#Mean - missed value first put None to NaN in dataset\n",
        "import numpy as np\n",
        "def change1(a):\n",
        "  dataset[a] = dataset[a].replace(np.NaN, dataset[a].mean())"
      ],
      "metadata": {
        "id": "0CVnFVxQqVu5"
      },
      "execution_count": null,
      "outputs": []
    },
    {
      "cell_type": "code",
      "source": [
        "#PM2.5\tPM10\tNO2\tSO2\tCO\tOzone\tTemp\tRH\tWS\tWD\tSR\n",
        "l=[\"PM2.5\",\"PM10\",\"NO2\",\"SO2\",\"CO\",\"Ozone\",\"RH\",\"Temp\",\"WS\",\"WD\",\"SR\"]\n",
        "for i in l:\n",
        "  change1(i)"
      ],
      "metadata": {
        "id": "NEdXKqg0qfHf"
      },
      "execution_count": null,
      "outputs": []
    },
    {
      "cell_type": "code",
      "source": [
        "X = dataset.iloc[0:,1:]\n",
        "y = dataset.iloc[0:,:1]#pm2.5 prediction"
      ],
      "metadata": {
        "id": "zV3Ie6Una2Wx"
      },
      "execution_count": null,
      "outputs": []
    },
    {
      "cell_type": "code",
      "source": [
        "# split data into training set and test set\n",
        "from sklearn.model_selection import train_test_split\n",
        "X_train, X_test, y_train, y_test = train_test_split(X, y, test_size = 1/3, random_state = 0)"
      ],
      "metadata": {
        "id": "qZQZuxika7qw"
      },
      "execution_count": null,
      "outputs": []
    },
    {
      "cell_type": "code",
      "source": [
        "from sklearn.model_selection import cross_val_score\n",
        "from sklearn.svm import SVR"
      ],
      "metadata": {
        "id": "-fH9JLFMbOaf"
      },
      "execution_count": null,
      "outputs": []
    },
    {
      "cell_type": "code",
      "source": [
        "support_regressor = SVR(kernel='rbf', C=1000)\n",
        "support_regressor.fit(X_train, y_train)"
      ],
      "metadata": {
        "colab": {
          "base_uri": "https://localhost:8080/"
        },
        "id": "39QcfCdAbSn4",
        "outputId": "39d586aa-01c1-4cae-bb84-06a86b2ad293"
      },
      "execution_count": null,
      "outputs": [
        {
          "output_type": "stream",
          "name": "stderr",
          "text": [
            "/usr/local/lib/python3.7/dist-packages/sklearn/utils/validation.py:993: DataConversionWarning: A column-vector y was passed when a 1d array was expected. Please change the shape of y to (n_samples, ), for example using ravel().\n",
            "  y = column_or_1d(y, warn=True)\n"
          ]
        },
        {
          "output_type": "execute_result",
          "data": {
            "text/plain": [
              "SVR(C=1000)"
            ]
          },
          "metadata": {},
          "execution_count": 47
        }
      ]
    },
    {
      "cell_type": "code",
      "source": [
        "# Predicting the test set results\n",
        "y_pred = support_regressor.predict(X_test)"
      ],
      "metadata": {
        "id": "KNFULHdgbfTo"
      },
      "execution_count": null,
      "outputs": []
    },
    {
      "cell_type": "code",
      "source": [
        "from sklearn import metrics\n",
        "print(metrics.mean_absolute_error(y_test,y_pred))\n",
        "print(metrics.mean_squared_error(y_test, y_pred))"
      ],
      "metadata": {
        "colab": {
          "base_uri": "https://localhost:8080/"
        },
        "id": "hCk48OckcOs4",
        "outputId": "e1af9014-4eb1-4bee-c938-ea3cc70ec71d"
      },
      "execution_count": null,
      "outputs": [
        {
          "output_type": "stream",
          "name": "stdout",
          "text": [
            "20.57965476552128\n",
            "1186.810850961749\n"
          ]
        }
      ]
    },
    {
      "cell_type": "code",
      "source": [
        "from sklearn.metrics import mean_squared_error\n",
        "from math import sqrt\n",
        "\n",
        "rmse = sqrt(mean_squared_error(y_test, y_pred))"
      ],
      "metadata": {
        "id": "Ywx4V1Tdcmoa"
      },
      "execution_count": null,
      "outputs": []
    },
    {
      "cell_type": "code",
      "source": [
        "rmse"
      ],
      "metadata": {
        "colab": {
          "base_uri": "https://localhost:8080/"
        },
        "id": "uNI3EsIOcnJp",
        "outputId": "0cc0d1e1-a348-4f33-8c00-6daff2b25ff3"
      },
      "execution_count": null,
      "outputs": [
        {
          "output_type": "execute_result",
          "data": {
            "text/plain": [
              "34.45012120387604"
            ]
          },
          "metadata": {},
          "execution_count": 51
        }
      ]
    },
    {
      "cell_type": "code",
      "source": [
        "metrics.r2_score(y_test, y_pred)"
      ],
      "metadata": {
        "colab": {
          "base_uri": "https://localhost:8080/"
        },
        "id": "B13aGDbfcpCR",
        "outputId": "19db2b3b-9d63-4cc2-ba7e-1b05f579c937"
      },
      "execution_count": null,
      "outputs": [
        {
          "output_type": "execute_result",
          "data": {
            "text/plain": [
              "0.7755410095228891"
            ]
          },
          "metadata": {},
          "execution_count": 52
        }
      ]
    },
    {
      "cell_type": "code",
      "source": [
        ""
      ],
      "metadata": {
        "id": "3AXQMBO1Nmyj"
      },
      "execution_count": null,
      "outputs": []
    }
  ]
}
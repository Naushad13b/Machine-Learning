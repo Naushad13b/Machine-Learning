{
  "nbformat": 4,
  "nbformat_minor": 0,
  "metadata": {
    "colab": {
      "name": "010)BoxCox.ipynb",
      "provenance": [],
      "authorship_tag": "ABX9TyPClX+hE2t3iQwh6JofGPDh",
      "include_colab_link": true
    },
    "kernelspec": {
      "name": "python3",
      "display_name": "Python 3"
    },
    "language_info": {
      "name": "python"
    }
  },
  "cells": [
    {
      "cell_type": "markdown",
      "metadata": {
        "id": "view-in-github",
        "colab_type": "text"
      },
      "source": [
        "<a href=\"https://colab.research.google.com/github/Naushad13b/Machine-Learning/blob/main/010)BoxCox.ipynb\" target=\"_parent\"><img src=\"https://colab.research.google.com/assets/colab-badge.svg\" alt=\"Open In Colab\"/></a>"
      ]
    },
    {
      "cell_type": "code",
      "execution_count": 41,
      "metadata": {
        "colab": {
          "base_uri": "https://localhost:8080/",
          "height": 265
        },
        "id": "P7Mw7rmil0X4",
        "outputId": "edc1b2d4-f782-4129-fd36-ba52f28a2950"
      },
      "outputs": [
        {
          "output_type": "display_data",
          "data": {
            "text/plain": [
              "<Figure size 432x288 with 1 Axes>"
            ],
            "image/png": "[encoded data removed]"
          },
          "metadata": {
            "needs_background": "light"
          }
        }
      ],
      "source": [
        "import pandas\n",
        "import matplotlib.pyplot as plt\n",
        "\n",
        "if __name__ == '__main__':\n",
        "    # import the data as a pandas dataframe object\n",
        "    df = pandas.read_csv(r'/content/Bhiwadi1.csv')\n",
        "\n",
        "    # plot a 100 bin histogram of the \"PM2.5\" column\n",
        "    plt.hist(df['PM2.5'], bins=100)\n",
        "    plt.show()"
      ]
    },
    {
      "cell_type": "code",
      "source": [
        "from scipy import stats\n",
        "import numpy as np\n",
        "# get values from our \"PM2.5\" column\n",
        "transform = np.asarray(df['PM2.5'].values)\n",
        "    \n",
        "# transform values and store as \"dft\"\n",
        "dft = stats.boxcox(transform)[0]\n",
        "\n",
        "# plot the transformed data\n",
        "plt.hist(dft, bins=100)\n",
        "plt.show()"
      ],
      "metadata": {
        "colab": {
          "base_uri": "https://localhost:8080/",
          "height": 265
        },
        "id": "0gIAabMNmqAK",
        "outputId": "828296ad-7c7f-48e9-e345-d3e25354b317"
      },
      "execution_count": 42,
      "outputs": [
        {
          "output_type": "display_data",
          "data": {
            "text/plain": [
              "<Figure size 432x288 with 1 Axes>"
            ],
            "image/png": "[encoded data removed]"
          },
          "metadata": {
            "needs_background": "light"
          }
        }
      ]
    },
    {
      "cell_type": "code",
      "source": [
        "dft[3]"
      ],
      "metadata": {
        "colab": {
          "base_uri": "https://localhost:8080/"
        },
        "id": "HEGa-rK7p6Gw",
        "outputId": "2c327002-6255-4be6-a76f-676a363e28a4"
      },
      "execution_count": 35,
      "outputs": [
        {
          "output_type": "execute_result",
          "data": {
            "text/plain": [
              "9.225468211823221"
            ]
          },
          "metadata": {},
          "execution_count": 35
        }
      ]
    },
    {
      "cell_type": "code",
      "source": [
        ""
      ],
      "metadata": {
        "id": "PgJtkfqQqKzI"
      },
      "execution_count": null,
      "outputs": []
    }
  ]
}

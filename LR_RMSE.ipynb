{
  "nbformat": 4,
  "nbformat_minor": 0,
  "metadata": {
    "colab": {
      "name": "LR_RMSE.ipynb",
      "provenance": [],
      "authorship_tag": "ABX9TyNDi79US8eN+/ItREx83Y7M",
      "include_colab_link": true
    },
    "kernelspec": {
      "name": "python3",
      "display_name": "Python 3"
    },
    "language_info": {
      "name": "python"
    }
  },
  "cells": [
    {
      "cell_type": "markdown",
      "metadata": {
        "id": "view-in-github",
        "colab_type": "text"
      },
      "source": [
        "<a href=\"https://colab.research.google.com/github/Naushad13b/Machine-Learning/blob/main/LR_RMSE.ipynb\" target=\"_parent\"><img src=\"https://colab.research.google.com/assets/colab-badge.svg\" alt=\"Open In Colab\"/></a>"
      ]
    },
    {
      "cell_type": "code",
      "execution_count": null,
      "metadata": {
        "id": "n3mKGNoF72Rc"
      },
      "outputs": [],
      "source": [
        "# Import the libraries\n",
        "import numpy as np\n",
        "import pandas as pd\n",
        "import matplotlib.pyplot as plt"
      ]
    },
    {
      "cell_type": "code",
      "source": [
        "# Import the dataset\n",
        "dataset = pd.read_csv('allcities.csv')"
      ],
      "metadata": {
        "id": "01b9U-BH8GaO"
      },
      "execution_count": null,
      "outputs": []
    },
    {
      "cell_type": "code",
      "source": [
        "#Mean - missed value first put None to NaN in dataset\n",
        "import numpy as np\n",
        "def change1(a):\n",
        "  dataset[a] = dataset[a].replace(np.NaN, dataset[a].mean())"
      ],
      "metadata": {
        "id": "32opg9lmq6Om"
      },
      "execution_count": null,
      "outputs": []
    },
    {
      "cell_type": "code",
      "source": [
        "#PM2.5\tPM10\tNO2\tSO2\tCO\tOzone\tTemp\tRH\tWS\tWD\tSR\n",
        "l=[\"PM2.5\",\"PM10\",\"NO2\",\"SO2\",\"CO\",\"Ozone\",\"RH\",\"Temp\",\"WS\",\"WD\",\"SR\"]\n",
        "for i in l:\n",
        "  change1(i)"
      ],
      "metadata": {
        "id": "zqOZDX08q9l3"
      },
      "execution_count": null,
      "outputs": []
    },
    {
      "cell_type": "code",
      "source": [
        "dataset.head()"
      ],
      "metadata": {
        "colab": {
          "base_uri": "https://localhost:8080/",
          "height": 206
        },
        "id": "Jgwfn27g8G8F",
        "outputId": "fe66ddd5-b173-45a8-da1f-6555f980c25f"
      },
      "execution_count": null,
      "outputs": [
        {
          "output_type": "execute_result",
          "data": {
            "text/plain": [
              "    PM2.5    PM10     NO    NO2    SO2    CO  Ozone   Temp     RH    WS  \\\n",
              "0  222.37  313.72  13.30  36.83  31.70  1.73  28.90  16.76  46.97  0.47   \n",
              "1  128.14  177.70  15.94  29.33  24.19  1.29  17.46  17.26  70.07  0.50   \n",
              "2   68.44  104.81  26.27  40.26  21.80  1.13  14.43  19.50  72.69  0.72   \n",
              "3   62.51  104.20  22.32  40.63  20.09  0.98  16.60  20.87  73.33  0.67   \n",
              "4  122.99  185.76  56.59  68.72  21.60  1.25   8.85  19.49  88.84  1.15   \n",
              "\n",
              "       WD     SR  \n",
              "0  117.20  43.07  \n",
              "1  107.32  26.13  \n",
              "2  143.68  70.30  \n",
              "3   85.33  70.81  \n",
              "4  244.78  24.45  "
            ],
            "text/html": [
              "\n",
              "  <div id=\"df-07521646-b982-4f4e-a4d0-61c39618a4ec\">\n",
              "    <div class=\"colab-df-container\">\n",
              "      <div>\n",
              "<style scoped>\n",
              "    .dataframe tbody tr th:only-of-type {\n",
              "        vertical-align: middle;\n",
              "    }\n",
              "\n",
              "    .dataframe tbody tr th {\n",
              "        vertical-align: top;\n",
              "    }\n",
              "\n",
              "    .dataframe thead th {\n",
              "        text-align: right;\n",
              "    }\n",
              "</style>\n",
              "<table border=\"1\" class=\"dataframe\">\n",
              "  <thead>\n",
              "    <tr style=\"text-align: right;\">\n",
              "      <th></th>\n",
              "      <th>PM2.5</th>\n",
              "      <th>PM10</th>\n",
              "      <th>NO</th>\n",
              "      <th>NO2</th>\n",
              "      <th>SO2</th>\n",
              "      <th>CO</th>\n",
              "      <th>Ozone</th>\n",
              "      <th>Temp</th>\n",
              "      <th>RH</th>\n",
              "      <th>WS</th>\n",
              "      <th>WD</th>\n",
              "      <th>SR</th>\n",
              "    </tr>\n",
              "  </thead>\n",
              "  <tbody>\n",
              "    <tr>\n",
              "      <th>0</th>\n",
              "      <td>222.37</td>\n",
              "      <td>313.72</td>\n",
              "      <td>13.30</td>\n",
              "      <td>36.83</td>\n",
              "      <td>31.70</td>\n",
              "      <td>1.73</td>\n",
              "      <td>28.90</td>\n",
              "      <td>16.76</td>\n",
              "      <td>46.97</td>\n",
              "      <td>0.47</td>\n",
              "      <td>117.20</td>\n",
              "      <td>43.07</td>\n",
              "    </tr>\n",
              "    <tr>\n",
              "      <th>1</th>\n",
              "      <td>128.14</td>\n",
              "      <td>177.70</td>\n",
              "      <td>15.94</td>\n",
              "      <td>29.33</td>\n",
              "      <td>24.19</td>\n",
              "      <td>1.29</td>\n",
              "      <td>17.46</td>\n",
              "      <td>17.26</td>\n",
              "      <td>70.07</td>\n",
              "      <td>0.50</td>\n",
              "      <td>107.32</td>\n",
              "      <td>26.13</td>\n",
              "    </tr>\n",
              "    <tr>\n",
              "      <th>2</th>\n",
              "      <td>68.44</td>\n",
              "      <td>104.81</td>\n",
              "      <td>26.27</td>\n",
              "      <td>40.26</td>\n",
              "      <td>21.80</td>\n",
              "      <td>1.13</td>\n",
              "      <td>14.43</td>\n",
              "      <td>19.50</td>\n",
              "      <td>72.69</td>\n",
              "      <td>0.72</td>\n",
              "      <td>143.68</td>\n",
              "      <td>70.30</td>\n",
              "    </tr>\n",
              "    <tr>\n",
              "      <th>3</th>\n",
              "      <td>62.51</td>\n",
              "      <td>104.20</td>\n",
              "      <td>22.32</td>\n",
              "      <td>40.63</td>\n",
              "      <td>20.09</td>\n",
              "      <td>0.98</td>\n",
              "      <td>16.60</td>\n",
              "      <td>20.87</td>\n",
              "      <td>73.33</td>\n",
              "      <td>0.67</td>\n",
              "      <td>85.33</td>\n",
              "      <td>70.81</td>\n",
              "    </tr>\n",
              "    <tr>\n",
              "      <th>4</th>\n",
              "      <td>122.99</td>\n",
              "      <td>185.76</td>\n",
              "      <td>56.59</td>\n",
              "      <td>68.72</td>\n",
              "      <td>21.60</td>\n",
              "      <td>1.25</td>\n",
              "      <td>8.85</td>\n",
              "      <td>19.49</td>\n",
              "      <td>88.84</td>\n",
              "      <td>1.15</td>\n",
              "      <td>244.78</td>\n",
              "      <td>24.45</td>\n",
              "    </tr>\n",
              "  </tbody>\n",
              "</table>\n",
              "</div>\n",
              "      <button class=\"colab-df-convert\" onclick=\"convertToInteractive('df-07521646-b982-4f4e-a4d0-61c39618a4ec')\"\n",
              "              title=\"Convert this dataframe to an interactive table.\"\n",
              "              style=\"display:none;\">\n",
              "        \n",
              "  <svg xmlns=\"http://www.w3.org/2000/svg\" height=\"24px\"viewBox=\"0 0 24 24\"\n",
              "       width=\"24px\">\n",
              "    <path d=\"M0 0h24v24H0V0z\" fill=\"none\"/>\n",
              "    <path d=\"M18.56 5.44l.94 2.06.94-2.06 2.06-.94-2.06-.94-.94-2.06-.94 2.06-2.06.94zm-11 1L8.5 8.5l.94-2.06 2.06-.94-2.06-.94L8.5 2.5l-.94 2.06-2.06.94zm10 10l.94 2.06.94-2.06 2.06-.94-2.06-.94-.94-2.06-.94 2.06-2.06.94z\"/><path d=\"M17.41 7.96l-1.37-1.37c-.4-.4-.92-.59-1.43-.59-.52 0-1.04.2-1.43.59L10.3 9.45l-7.72 7.72c-.78.78-.78 2.05 0 2.83L4 21.41c.39.39.9.59 1.41.59.51 0 1.02-.2 1.41-.59l7.78-7.78 2.81-2.81c.8-.78.8-2.07 0-2.86zM5.41 20L4 18.59l7.72-7.72 1.47 1.35L5.41 20z\"/>\n",
              "  </svg>\n",
              "      </button>\n",
              "      \n",
              "  <style>\n",
              "    .colab-df-container {\n",
              "      display:flex;\n",
              "      flex-wrap:wrap;\n",
              "      gap: 12px;\n",
              "    }\n",
              "\n",
              "    .colab-df-convert {\n",
              "      background-color: #E8F0FE;\n",
              "      border: none;\n",
              "      border-radius: 50%;\n",
              "      cursor: pointer;\n",
              "      display: none;\n",
              "      fill: #1967D2;\n",
              "      height: 32px;\n",
              "      padding: 0 0 0 0;\n",
              "      width: 32px;\n",
              "    }\n",
              "\n",
              "    .colab-df-convert:hover {\n",
              "      background-color: #E2EBFA;\n",
              "      box-shadow: 0px 1px 2px rgba(60, 64, 67, 0.3), 0px 1px 3px 1px rgba(60, 64, 67, 0.15);\n",
              "      fill: #174EA6;\n",
              "    }\n",
              "\n",
              "    [theme=dark] .colab-df-convert {\n",
              "      background-color: #3B4455;\n",
              "      fill: #D2E3FC;\n",
              "    }\n",
              "\n",
              "    [theme=dark] .colab-df-convert:hover {\n",
              "      background-color: #434B5C;\n",
              "      box-shadow: 0px 1px 3px 1px rgba(0, 0, 0, 0.15);\n",
              "      filter: drop-shadow(0px 1px 2px rgba(0, 0, 0, 0.3));\n",
              "      fill: #FFFFFF;\n",
              "    }\n",
              "  </style>\n",
              "\n",
              "      <script>\n",
              "        const buttonEl =\n",
              "          document.querySelector('#df-07521646-b982-4f4e-a4d0-61c39618a4ec button.colab-df-convert');\n",
              "        buttonEl.style.display =\n",
              "          google.colab.kernel.accessAllowed ? 'block' : 'none';\n",
              "\n",
              "        async function convertToInteractive(key) {\n",
              "          const element = document.querySelector('#df-07521646-b982-4f4e-a4d0-61c39618a4ec');\n",
              "          const dataTable =\n",
              "            await google.colab.kernel.invokeFunction('convertToInteractive',\n",
              "                                                     [key], {});\n",
              "          if (!dataTable) return;\n",
              "\n",
              "          const docLinkHtml = 'Like what you see? Visit the ' +\n",
              "            '<a target=\"_blank\" href=https://colab.research.google.com/notebooks/data_table.ipynb>data table notebook</a>'\n",
              "            + ' to learn more about interactive tables.';\n",
              "          element.innerHTML = '';\n",
              "          dataTable['output_type'] = 'display_data';\n",
              "          await google.colab.output.renderOutput(dataTable, element);\n",
              "          const docLink = document.createElement('div');\n",
              "          docLink.innerHTML = docLinkHtml;\n",
              "          element.appendChild(docLink);\n",
              "        }\n",
              "      </script>\n",
              "    </div>\n",
              "  </div>\n",
              "  "
            ]
          },
          "metadata": {},
          "execution_count": 46
        }
      ]
    },
    {
      "cell_type": "code",
      "source": [
        "X = dataset.iloc[0:,1:]\n",
        "y = dataset.iloc[0:,:1]#pm2.5 prediction"
      ],
      "metadata": {
        "id": "RBFfpioj8LFq"
      },
      "execution_count": null,
      "outputs": []
    },
    {
      "cell_type": "code",
      "source": [
        "# split data into training set and test set\n",
        "from sklearn.model_selection import train_test_split\n",
        "X_train, X_test, y_train, y_test = train_test_split(X, y, test_size = 1/3, random_state = 0)"
      ],
      "metadata": {
        "id": "l95dbC808TGp"
      },
      "execution_count": null,
      "outputs": []
    },
    {
      "cell_type": "code",
      "source": [
        "# Fitting simple linear regression to training set \n",
        "from sklearn.linear_model import LinearRegression\n",
        "regressor = LinearRegression()\n",
        "regressor.fit(X_train, y_train)"
      ],
      "metadata": {
        "colab": {
          "base_uri": "https://localhost:8080/"
        },
        "id": "kWr9EVVw8kYF",
        "outputId": "9e2d893a-c84e-4fb6-8607-17eaf247fe9f"
      },
      "execution_count": null,
      "outputs": [
        {
          "output_type": "execute_result",
          "data": {
            "text/plain": [
              "LinearRegression()"
            ]
          },
          "metadata": {},
          "execution_count": 49
        }
      ]
    },
    {
      "cell_type": "code",
      "source": [
        "print(regressor.intercept_)\n",
        "print(regressor.coef_)"
      ],
      "metadata": {
        "colab": {
          "base_uri": "https://localhost:8080/"
        },
        "id": "p-gDdFow83_M",
        "outputId": "b68238eb-e06a-4b0e-e6b4-ad7e408354c1"
      },
      "execution_count": null,
      "outputs": [
        {
          "output_type": "stream",
          "name": "stdout",
          "text": [
            "[-46.28102252]\n",
            "[[ 4.88927569e-01  2.97711935e-02  1.38686536e-01  5.79825085e-02\n",
            "   1.31127937e+01 -9.39922445e-02 -3.01890606e-01  5.65813747e-01\n",
            "   7.89622503e-03 -1.62299744e-03 -1.42522940e-02]]\n"
          ]
        }
      ]
    },
    {
      "cell_type": "code",
      "source": [
        "# Predicting the test set results\n",
        "y_pred = regressor.predict(X_test)"
      ],
      "metadata": {
        "id": "Jp9XDkB88pOl"
      },
      "execution_count": null,
      "outputs": []
    },
    {
      "cell_type": "code",
      "source": [
        "y_pred"
      ],
      "metadata": {
        "colab": {
          "base_uri": "https://localhost:8080/"
        },
        "id": "rMg43at8ZKHZ",
        "outputId": "a1e0d015-1add-4093-f5d5-4c763dc63764"
      },
      "execution_count": null,
      "outputs": [
        {
          "output_type": "execute_result",
          "data": {
            "text/plain": [
              "array([[136.51668624],\n",
              "       [168.53599365],\n",
              "       [  4.23237455],\n",
              "       ...,\n",
              "       [  9.49540104],\n",
              "       [ 90.21594953],\n",
              "       [ 19.3809875 ]])"
            ]
          },
          "metadata": {},
          "execution_count": 52
        }
      ]
    },
    {
      "cell_type": "code",
      "source": [
        "from sklearn import metrics\n",
        "print(metrics.mean_absolute_error(y_test,y_pred))\n",
        "print(metrics.mean_squared_error(y_test, y_pred))"
      ],
      "metadata": {
        "colab": {
          "base_uri": "https://localhost:8080/"
        },
        "id": "QrDzXkVJ8ptN",
        "outputId": "014960c8-0735-402e-b418-cb39003c6377"
      },
      "execution_count": null,
      "outputs": [
        {
          "output_type": "stream",
          "name": "stdout",
          "text": [
            "25.100285278065364\n",
            "1533.5290139205315\n"
          ]
        }
      ]
    },
    {
      "cell_type": "code",
      "source": [
        "from sklearn.metrics import mean_squared_error\n",
        "from math import sqrt\n",
        "\n",
        "rmse = sqrt(mean_squared_error(y_test, y_pred))"
      ],
      "metadata": {
        "id": "hX0O1a3sAZuT"
      },
      "execution_count": null,
      "outputs": []
    },
    {
      "cell_type": "code",
      "source": [
        "rmse"
      ],
      "metadata": {
        "colab": {
          "base_uri": "https://localhost:8080/"
        },
        "id": "MDcQhnyVAf_i",
        "outputId": "aee2cbea-b94b-440f-8740-bd905453ea4f"
      },
      "execution_count": null,
      "outputs": [
        {
          "output_type": "execute_result",
          "data": {
            "text/plain": [
              "39.16029895085751"
            ]
          },
          "metadata": {},
          "execution_count": 55
        }
      ]
    },
    {
      "cell_type": "code",
      "source": [
        "metrics.r2_score(y_test, y_pred)"
      ],
      "metadata": {
        "colab": {
          "base_uri": "https://localhost:8080/"
        },
        "id": "UqAK8hb1TBBU",
        "outputId": "714f225b-1e8d-4bbf-d365-e15d35a69621"
      },
      "execution_count": null,
      "outputs": [
        {
          "output_type": "execute_result",
          "data": {
            "text/plain": [
              "0.7099669470893168"
            ]
          },
          "metadata": {},
          "execution_count": 56
        }
      ]
    },
    {
      "cell_type": "code",
      "source": [
        ""
      ],
      "metadata": {
        "id": "S1f0ygTZTOsk"
      },
      "execution_count": null,
      "outputs": []
    }
  ]
}
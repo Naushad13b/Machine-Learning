{
  "nbformat": 4,
  "nbformat_minor": 0,
  "metadata": {
    "colab": {
      "name": "04)DataSplitingwithDifferentFormate.ipynb",
      "provenance": [],
      "authorship_tag": "ABX9TyOGmO3E97h6eMn5m/dkjwRk",
      "include_colab_link": true
    },
    "kernelspec": {
      "name": "python3",
      "display_name": "Python 3"
    },
    "language_info": {
      "name": "python"
    }
  },
  "cells": [
    {
      "cell_type": "markdown",
      "metadata": {
        "id": "view-in-github",
        "colab_type": "text"
      },
      "source": [
        "<a href=\"https://colab.research.google.com/github/Naushad13b/Machine-Learning/blob/main/04)DataSplitingwithDifferentFormate.ipynb\" target=\"_parent\"><img src=\"https://colab.research.google.com/assets/colab-badge.svg\" alt=\"Open In Colab\"/></a>"
      ]
    },
    {
      "cell_type": "code",
      "execution_count": null,
      "metadata": {
        "colab": {
          "base_uri": "https://localhost:8080/"
        },
        "id": "aIiNSmmSffRi",
        "outputId": "f8a45185-3e85-4728-ed55-406abd7b91e6"
      },
      "outputs": [
        {
          "output_type": "stream",
          "name": "stdout",
          "text": [
            "<class 'pandas.core.frame.DataFrame'>\n",
            "RangeIndex: 365 entries, 0 to 364\n",
            "Data columns (total 6 columns):\n",
            " #   Column  Non-Null Count  Dtype  \n",
            "---  ------  --------------  -----  \n",
            " 0   PM2.5   365 non-null    float64\n",
            " 1   PM10    365 non-null    float64\n",
            " 2   NO      365 non-null    float64\n",
            " 3   NO2     365 non-null    float64\n",
            " 4   SO2     365 non-null    float64\n",
            " 5   CO      365 non-null    float64\n",
            "dtypes: float64(6)\n",
            "memory usage: 17.2 KB\n"
          ]
        }
      ],
      "source": [
        "import numpy as np\n",
        "import pandas as pd\n",
        "import matplotlib.pyplot as plt\n",
        "%matplotlib inline\n",
        "\n",
        "dataset_m = pd.read_csv('abcd.csv')\n",
        "dataset_m.info()"
      ]
    },
    {
      "cell_type": "code",
      "source": [
        "dataset_m.head()"
      ],
      "metadata": {
        "colab": {
          "base_uri": "https://localhost:8080/",
          "height": 206
        },
        "id": "Km7XOObCf0IN",
        "outputId": "6dab35e5-a937-493c-94ac-3792e546e021"
      },
      "execution_count": null,
      "outputs": [
        {
          "output_type": "execute_result",
          "data": {
            "text/plain": [
              "    PM2.5    PM10     NO    NO2   SO2    CO\n",
              "0  152.81  322.01  42.96  56.50  5.93  2.37\n",
              "1  169.87  327.02  71.64  49.40  6.20  2.73\n",
              "2  206.10  402.67  61.40  52.58  8.29  2.79\n",
              "3  190.26  360.42  91.92  51.02  7.24  3.03\n",
              "4  188.83  346.03  52.75  56.52  6.96  2.41"
            ],
            "text/html": [
              "\n",
              "  <div id=\"df-8dc156d0-e47a-4d8a-a8a6-38c6ef07dfb6\">\n",
              "    <div class=\"colab-df-container\">\n",
              "      <div>\n",
              "<style scoped>\n",
              "    .dataframe tbody tr th:only-of-type {\n",
              "        vertical-align: middle;\n",
              "    }\n",
              "\n",
              "    .dataframe tbody tr th {\n",
              "        vertical-align: top;\n",
              "    }\n",
              "\n",
              "    .dataframe thead th {\n",
              "        text-align: right;\n",
              "    }\n",
              "</style>\n",
              "<table border=\"1\" class=\"dataframe\">\n",
              "  <thead>\n",
              "    <tr style=\"text-align: right;\">\n",
              "      <th></th>\n",
              "      <th>PM2.5</th>\n",
              "      <th>PM10</th>\n",
              "      <th>NO</th>\n",
              "      <th>NO2</th>\n",
              "      <th>SO2</th>\n",
              "      <th>CO</th>\n",
              "    </tr>\n",
              "  </thead>\n",
              "  <tbody>\n",
              "    <tr>\n",
              "      <th>0</th>\n",
              "      <td>152.81</td>\n",
              "      <td>322.01</td>\n",
              "      <td>42.96</td>\n",
              "      <td>56.50</td>\n",
              "      <td>5.93</td>\n",
              "      <td>2.37</td>\n",
              "    </tr>\n",
              "    <tr>\n",
              "      <th>1</th>\n",
              "      <td>169.87</td>\n",
              "      <td>327.02</td>\n",
              "      <td>71.64</td>\n",
              "      <td>49.40</td>\n",
              "      <td>6.20</td>\n",
              "      <td>2.73</td>\n",
              "    </tr>\n",
              "    <tr>\n",
              "      <th>2</th>\n",
              "      <td>206.10</td>\n",
              "      <td>402.67</td>\n",
              "      <td>61.40</td>\n",
              "      <td>52.58</td>\n",
              "      <td>8.29</td>\n",
              "      <td>2.79</td>\n",
              "    </tr>\n",
              "    <tr>\n",
              "      <th>3</th>\n",
              "      <td>190.26</td>\n",
              "      <td>360.42</td>\n",
              "      <td>91.92</td>\n",
              "      <td>51.02</td>\n",
              "      <td>7.24</td>\n",
              "      <td>3.03</td>\n",
              "    </tr>\n",
              "    <tr>\n",
              "      <th>4</th>\n",
              "      <td>188.83</td>\n",
              "      <td>346.03</td>\n",
              "      <td>52.75</td>\n",
              "      <td>56.52</td>\n",
              "      <td>6.96</td>\n",
              "      <td>2.41</td>\n",
              "    </tr>\n",
              "  </tbody>\n",
              "</table>\n",
              "</div>\n",
              "      <button class=\"colab-df-convert\" onclick=\"convertToInteractive('df-8dc156d0-e47a-4d8a-a8a6-38c6ef07dfb6')\"\n",
              "              title=\"Convert this dataframe to an interactive table.\"\n",
              "              style=\"display:none;\">\n",
              "        \n",
              "  <svg xmlns=\"http://www.w3.org/2000/svg\" height=\"24px\"viewBox=\"0 0 24 24\"\n",
              "       width=\"24px\">\n",
              "    <path d=\"M0 0h24v24H0V0z\" fill=\"none\"/>\n",
              "    <path d=\"M18.56 5.44l.94 2.06.94-2.06 2.06-.94-2.06-.94-.94-2.06-.94 2.06-2.06.94zm-11 1L8.5 8.5l.94-2.06 2.06-.94-2.06-.94L8.5 2.5l-.94 2.06-2.06.94zm10 10l.94 2.06.94-2.06 2.06-.94-2.06-.94-.94-2.06-.94 2.06-2.06.94z\"/><path d=\"M17.41 7.96l-1.37-1.37c-.4-.4-.92-.59-1.43-.59-.52 0-1.04.2-1.43.59L10.3 9.45l-7.72 7.72c-.78.78-.78 2.05 0 2.83L4 21.41c.39.39.9.59 1.41.59.51 0 1.02-.2 1.41-.59l7.78-7.78 2.81-2.81c.8-.78.8-2.07 0-2.86zM5.41 20L4 18.59l7.72-7.72 1.47 1.35L5.41 20z\"/>\n",
              "  </svg>\n",
              "      </button>\n",
              "      \n",
              "  <style>\n",
              "    .colab-df-container {\n",
              "      display:flex;\n",
              "      flex-wrap:wrap;\n",
              "      gap: 12px;\n",
              "    }\n",
              "\n",
              "    .colab-df-convert {\n",
              "      background-color: #E8F0FE;\n",
              "      border: none;\n",
              "      border-radius: 50%;\n",
              "      cursor: pointer;\n",
              "      display: none;\n",
              "      fill: #1967D2;\n",
              "      height: 32px;\n",
              "      padding: 0 0 0 0;\n",
              "      width: 32px;\n",
              "    }\n",
              "\n",
              "    .colab-df-convert:hover {\n",
              "      background-color: #E2EBFA;\n",
              "      box-shadow: 0px 1px 2px rgba(60, 64, 67, 0.3), 0px 1px 3px 1px rgba(60, 64, 67, 0.15);\n",
              "      fill: #174EA6;\n",
              "    }\n",
              "\n",
              "    [theme=dark] .colab-df-convert {\n",
              "      background-color: #3B4455;\n",
              "      fill: #D2E3FC;\n",
              "    }\n",
              "\n",
              "    [theme=dark] .colab-df-convert:hover {\n",
              "      background-color: #434B5C;\n",
              "      box-shadow: 0px 1px 3px 1px rgba(0, 0, 0, 0.15);\n",
              "      filter: drop-shadow(0px 1px 2px rgba(0, 0, 0, 0.3));\n",
              "      fill: #FFFFFF;\n",
              "    }\n",
              "  </style>\n",
              "\n",
              "      <script>\n",
              "        const buttonEl =\n",
              "          document.querySelector('#df-8dc156d0-e47a-4d8a-a8a6-38c6ef07dfb6 button.colab-df-convert');\n",
              "        buttonEl.style.display =\n",
              "          google.colab.kernel.accessAllowed ? 'block' : 'none';\n",
              "\n",
              "        async function convertToInteractive(key) {\n",
              "          const element = document.querySelector('#df-8dc156d0-e47a-4d8a-a8a6-38c6ef07dfb6');\n",
              "          const dataTable =\n",
              "            await google.colab.kernel.invokeFunction('convertToInteractive',\n",
              "                                                     [key], {});\n",
              "          if (!dataTable) return;\n",
              "\n",
              "          const docLinkHtml = 'Like what you see? Visit the ' +\n",
              "            '<a target=\"_blank\" href=https://colab.research.google.com/notebooks/data_table.ipynb>data table notebook</a>'\n",
              "            + ' to learn more about interactive tables.';\n",
              "          element.innerHTML = '';\n",
              "          dataTable['output_type'] = 'display_data';\n",
              "          await google.colab.output.renderOutput(dataTable, element);\n",
              "          const docLink = document.createElement('div');\n",
              "          docLink.innerHTML = docLinkHtml;\n",
              "          element.appendChild(docLink);\n",
              "        }\n",
              "      </script>\n",
              "    </div>\n",
              "  </div>\n",
              "  "
            ]
          },
          "metadata": {},
          "execution_count": 12
        }
      ]
    },
    {
      "cell_type": "code",
      "source": [
        "X = dataset_m.iloc[:, [1,2,3,4,5]].values\n",
        "Y = dataset_m.iloc[:,0].values"
      ],
      "metadata": {
        "id": "fMTvidzIgQV-"
      },
      "execution_count": null,
      "outputs": []
    },
    {
      "cell_type": "code",
      "source": [
        "from sklearn.model_selection import train_test_split\n",
        "X_train, X_test, y_train, y_test = train_test_split(X, Y, test_size=0.33, random_state=42)"
      ],
      "metadata": {
        "id": "U3CqsNe1io5d"
      },
      "execution_count": null,
      "outputs": []
    },
    {
      "cell_type": "code",
      "source": [
        "X_train"
      ],
      "metadata": {
        "colab": {
          "base_uri": "https://localhost:8080/"
        },
        "id": "uB9XFnPHgkmu",
        "outputId": "6ae88522-2efa-488f-d8cd-f8c422f338dd"
      },
      "execution_count": null,
      "outputs": [
        {
          "output_type": "execute_result",
          "data": {
            "text/plain": [
              "array([[186.14,   5.03,  17.07,  14.16,   0.54],\n",
              "       [284.21,  51.2 ,  49.12,   5.63,   2.33],\n",
              "       [133.03,  34.7 ,  41.65,   6.3 ,   1.22],\n",
              "       ...,\n",
              "       [ 64.96,   7.27,  26.37,   2.51,   0.39],\n",
              "       [329.95,  16.14,  73.38,   5.44,   1.79],\n",
              "       [236.79,  39.76,  59.  ,  13.31,   1.36]])"
            ]
          },
          "metadata": {},
          "execution_count": 15
        }
      ]
    },
    {
      "cell_type": "code",
      "source": [
        "Y"
      ],
      "metadata": {
        "colab": {
          "base_uri": "https://localhost:8080/"
        },
        "id": "mwi7VboXgnQ-",
        "outputId": "4334b5f0-de1c-49af-ed51-1c0f3bc524a6"
      },
      "execution_count": null,
      "outputs": [
        {
          "output_type": "execute_result",
          "data": {
            "text/plain": [
              "array([152.81, 169.87, 206.1 , 190.26, 188.83, 175.93, 105.23,  95.3 ,\n",
              "       105.12,  75.84,  73.29,  94.1 , 112.16, 157.38, 116.78, 121.87,\n",
              "       116.79, 124.99,  82.33, 157.3 , 129.47, 130.77, 113.55,  88.84,\n",
              "        73.43, 109.79, 109.63, 111.65, 100.  , 121.13, 144.33, 154.07,\n",
              "       180.57, 168.51, 158.36, 146.48,  69.59,  88.57,  79.81,  94.38,\n",
              "       123.4 , 154.19, 157.86, 148.59, 107.8 ,  65.8 , 118.53, 114.35,\n",
              "       151.39, 135.44, 105.3 , 107.51, 104.4 , 108.05, 107.45,  87.63,\n",
              "        65.61,  50.66,  41.25,  47.71,  74.53,  76.82,  87.63,  86.  ,\n",
              "        85.85,  85.07,  83.21, 108.7 , 149.22, 133.98, 103.51,  74.3 ,\n",
              "        73.77,  98.57, 127.06, 169.14, 132.9 , 117.83, 105.51, 101.16,\n",
              "        95.67, 112.84,  85.  ,  81.94,  81.71,  82.68,  95.56,  96.47,\n",
              "        91.22,  91.12, 101.13,  81.71,  99.05,  82.88,  94.75,  84.68,\n",
              "        80.51,  98.7 ,  98.33, 117.83,  57.51,  79.23,  90.73, 101.65,\n",
              "        99.3 ,  89.41,  76.95,  51.59,  81.41, 104.17, 116.16,  67.04,\n",
              "        82.4 ,  93.73,  94.82,  80.2 , 110.02, 117.09,  88.78,  61.94,\n",
              "        81.63,  53.02,  56.69,  52.41,  45.64,  50.93,  42.04,  44.05,\n",
              "        45.74,  34.67,  53.82,  28.52,  29.68,  42.2 ,  50.19,  71.73,\n",
              "        71.78,  49.18,  35.65,  20.49,  23.12,  37.68,  35.97,  53.96,\n",
              "        46.47,  16.36,  39.09,   8.86,  28.08,  31.83,  42.38,  26.15,\n",
              "        27.8 ,  45.72,  61.88,  53.55,  47.15,  49.54,  42.7 ,  32.77,\n",
              "        41.05,  31.65,  14.17,  17.06,  16.85,  15.67,  16.74,  24.88,\n",
              "        17.71,  17.54,  19.16,  21.06,  20.51,  38.21,  34.89,  37.86,\n",
              "        19.78,  27.14,  34.77,  41.31,  40.35,  34.76,  25.11,  28.07,\n",
              "        26.96,  40.16,  34.03,  37.72,  32.34,  20.85,  32.62,  23.97,\n",
              "        17.55,  20.16,  19.88,  17.86,  20.84,  18.08,  19.58,  23.35,\n",
              "        19.68,  21.4 ,  20.16,  20.12,  16.17,  22.66,  38.29,  27.19,\n",
              "        29.  ,  16.2 ,  11.85,  19.2 ,  24.96,  14.14,  15.52,  28.01,\n",
              "        44.74,  40.04,  22.41,  25.1 ,  28.14,  16.68,  19.96,  20.99,\n",
              "        37.64,  41.3 ,  43.09,  34.07,  42.29,  23.47,  34.03,  40.8 ,\n",
              "        27.7 ,  36.63,  26.54,  23.99,  28.82,  30.66,  36.94,  26.66,\n",
              "        19.29,  21.3 ,  24.23,  24.25,  29.06,  37.58,  45.58,  54.77,\n",
              "        60.19,  23.97,  21.71,  37.45,  33.31,  25.64,  23.01,  19.38,\n",
              "        16.92,  19.26,  35.25,  28.38,  36.07,  59.65,  44.12,  37.92,\n",
              "        30.96,  27.82,  32.74,  48.18,  38.82,  37.52,  21.11,  18.29,\n",
              "        14.04,  22.04,  15.17,  17.66,  26.37,  45.97,  45.44,  55.34,\n",
              "        57.37,  78.95,  88.6 ,  97.21,  80.62,  71.24,  77.58,  68.15,\n",
              "        59.99,  26.14,  15.29,  17.03,  28.84,  57.62,  68.51,  75.57,\n",
              "        75.79,  90.5 ,  70.91,  73.52,  79.46,  82.87,  87.15,  90.06,\n",
              "        92.53, 112.83, 127.42, 185.81, 198.43, 117.65, 143.96, 167.1 ,\n",
              "       165.9 , 158.25, 135.08,  98.63,  95.88, 126.15, 132.02, 129.22,\n",
              "       122.73, 131.51, 130.75, 169.5 , 168.3 , 151.92, 131.54, 147.56,\n",
              "       172.72, 201.58, 214.88, 228.86, 245.08, 193.2 , 185.79, 211.95,\n",
              "       196.35, 206.72, 133.65, 111.18, 134.93, 137.83, 129.2 , 134.6 ,\n",
              "       157.9 , 188.74, 189.83, 201.74, 196.75, 176.78, 183.38, 144.58,\n",
              "       137.86, 213.2 , 224.89, 223.98, 229.32, 216.79, 216.65, 203.33,\n",
              "       166.17, 123.16,  79.47,  62.57,  79.09])"
            ]
          },
          "metadata": {},
          "execution_count": 16
        }
      ]
    },
    {
      "cell_type": "code",
      "source": [
        "from sklearn.linear_model import LinearRegression\n",
        "from sklearn.preprocessing import StandardScaler\n",
        "\n",
        "mlr = LinearRegression()\n",
        "sc_x = StandardScaler()\n",
        "X_new_train = sc_x.fit_transform(X_train)"
      ],
      "metadata": {
        "id": "XP0Zkkyrg7s-"
      },
      "execution_count": null,
      "outputs": []
    },
    {
      "cell_type": "code",
      "source": [
        "X_new_train"
      ],
      "metadata": {
        "colab": {
          "base_uri": "https://localhost:8080/"
        },
        "id": "OuZsmpQQiXhG",
        "outputId": "3522e851-f806-4a4a-e3e2-4c23644dde51"
      },
      "execution_count": null,
      "outputs": [
        {
          "output_type": "execute_result",
          "data": {
            "text/plain": [
              "array([[ 0.36580934, -0.71536182, -0.78098754,  1.65847505, -0.78919114],\n",
              "       [ 1.38391641,  1.86254392,  0.75638626, -0.24062173,  2.00315432],\n",
              "       [-0.18554853,  0.94126506,  0.39806544, -0.09145469,  0.27158814],\n",
              "       ...,\n",
              "       [-0.89221263, -0.59029123, -0.33488532, -0.93525032, -1.02318657],\n",
              "       [ 1.85876312, -0.09503406,  1.92008948, -0.28292283,  1.16077077],\n",
              "       [ 0.89162889,  1.22379058,  1.23030991,  1.46923328,  0.48998387]])"
            ]
          },
          "metadata": {},
          "execution_count": 18
        }
      ]
    },
    {
      "cell_type": "code",
      "source": [
        "mlr.fit(X_new_train,y_train)\n",
        "y_hat = mlr.predict(X_new_train)"
      ],
      "metadata": {
        "id": "5jyoQKy4hF2G"
      },
      "execution_count": null,
      "outputs": []
    },
    {
      "cell_type": "code",
      "source": [
        "mlr.score(X_test,y_test)"
      ],
      "metadata": {
        "colab": {
          "base_uri": "https://localhost:8080/"
        },
        "id": "RxqdI6jSiJuO",
        "outputId": "da8613f4-9eae-4d26-c91c-c0a684916c05"
      },
      "execution_count": null,
      "outputs": [
        {
          "output_type": "execute_result",
          "data": {
            "text/plain": [
              "-22721.53618849853"
            ]
          },
          "metadata": {},
          "execution_count": 20
        }
      ]
    },
    {
      "cell_type": "code",
      "source": [
        ""
      ],
      "metadata": {
        "id": "5v8WlVSYiMuW"
      },
      "execution_count": null,
      "outputs": []
    }
  ]
}
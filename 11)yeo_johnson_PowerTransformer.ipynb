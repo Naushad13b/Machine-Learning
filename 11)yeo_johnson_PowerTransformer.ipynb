{
  "nbformat": 4,
  "nbformat_minor": 0,
  "metadata": {
    "colab": {
      "name": "11)yeo-johnson_PowerTransformer.ipynb",
      "provenance": [],
      "authorship_tag": "ABX9TyO5Au7azTaTxLUtwGgQ/2iZ",
      "include_colab_link": true
    },
    "kernelspec": {
      "name": "python3",
      "display_name": "Python 3"
    },
    "language_info": {
      "name": "python"
    }
  },
  "cells": [
    {
      "cell_type": "markdown",
      "metadata": {
        "id": "view-in-github",
        "colab_type": "text"
      },
      "source": [
        "<a href=\"https://colab.research.google.com/github/Naushad13b/Machine-Learning/blob/main/11)yeo_johnson_PowerTransformer.ipynb\" target=\"_parent\"><img src=\"https://colab.research.google.com/assets/colab-badge.svg\" alt=\"Open In Colab\"/></a>"
      ]
    },
    {
      "cell_type": "code",
      "execution_count": 11,
      "metadata": {
        "id": "a24gSiMZMnWw"
      },
      "outputs": [],
      "source": [
        "from scipy.special import boxcox1p"
      ]
    },
    {
      "cell_type": "code",
      "source": [
        "import pandas as pd\n",
        "import matplotlib.pyplot as plt\n",
        "\n",
        "if __name__ == '__main__':\n",
        "    # import the data as a pandas dataframe object\n",
        "    df = pd.read_csv(r'/content/ABS_CO.csv')\n",
        "\n",
        "    # plot a 100 bin histogram of the \"PM2.5\" column\n",
        "    plt.hist(df['CO'], bins=100)\n",
        "    #plt.hist(df['PM10'], bins=100)\n",
        "    plt.show()"
      ],
      "metadata": {
        "colab": {
          "base_uri": "https://localhost:8080/",
          "height": 265
        },
        "id": "0dcgkqCcMoY3",
        "outputId": "1a10896b-733b-4533-b623-8e0b5f4a2a09"
      },
      "execution_count": 25,
      "outputs": [
        {
          "output_type": "display_data",
          "data": {
            "text/plain": [
              "<Figure size 432x288 with 1 Axes>"
            ],
            "image/png": "[encoded data removed]"
          },
          "metadata": {
            "needs_background": "light"
          }
        }
      ]
    },
    {
      "cell_type": "code",
      "source": [
        "df.min()"
      ],
      "metadata": {
        "colab": {
          "base_uri": "https://localhost:8080/"
        },
        "id": "Q2CAEfkNQM0W",
        "outputId": "1e5dc478-7429-4770-d905-3785243ca5f5"
      },
      "execution_count": 26,
      "outputs": [
        {
          "output_type": "execute_result",
          "data": {
            "text/plain": [
              "CO    0.0\n",
              "dtype: float64"
            ]
          },
          "metadata": {},
          "execution_count": 26
        }
      ]
    },
    {
      "cell_type": "code",
      "source": [
        " \n",
        "from matplotlib import pyplot\n",
        "# histogram of the raw data with a skew\n",
        "plt.hist(df['CO'], bins=50)\n",
        "plt.show()"
      ],
      "metadata": {
        "colab": {
          "base_uri": "https://localhost:8080/",
          "height": 265
        },
        "id": "U_Rf9vCvW4q4",
        "outputId": "706ecfbd-b863-4a8d-d9c9-479b9305db63"
      },
      "execution_count": 33,
      "outputs": [
        {
          "output_type": "display_data",
          "data": {
            "text/plain": [
              "<Figure size 432x288 with 1 Axes>"
            ],
            "image/png": "[encoded data removed]"
          },
          "metadata": {
            "needs_background": "light"
          }
        }
      ]
    },
    {
      "cell_type": "code",
      "source": [
        "from sklearn.preprocessing import PowerTransformer\n",
        "power = PowerTransformer(method='yeo-johnson', standardize=True)\n",
        "data_trans = power.fit_transform(df)"
      ],
      "metadata": {
        "id": "A5E5kubgZEfJ"
      },
      "execution_count": 34,
      "outputs": []
    },
    {
      "cell_type": "code",
      "source": [
        "plt.hist(data_trans, bins=50)\n",
        "plt.show()"
      ],
      "metadata": {
        "colab": {
          "base_uri": "https://localhost:8080/",
          "height": 265
        },
        "id": "pEgih5HSZP-I",
        "outputId": "7e70f9f1-1851-4c8d-f8d8-77658540f3f0"
      },
      "execution_count": 36,
      "outputs": [
        {
          "output_type": "display_data",
          "data": {
            "text/plain": [
              "<Figure size 432x288 with 1 Axes>"
            ],
            "image/png": "[encoded data removed]"
          },
          "metadata": {
            "needs_background": "light"
          }
        }
      ]
    },
    {
      "cell_type": "code",
      "source": [
        "data_trans"
      ],
      "metadata": {
        "colab": {
          "base_uri": "https://localhost:8080/"
        },
        "id": "O_vaQfk9aVtJ",
        "outputId": "b0fcc61b-c57e-42b2-d8d6-c8d2f2693c6d"
      },
      "execution_count": 39,
      "outputs": [
        {
          "output_type": "execute_result",
          "data": {
            "text/plain": [
              "array([[ 0.72018676],\n",
              "       [ 2.71693279],\n",
              "       [ 2.14835562],\n",
              "       ...,\n",
              "       [ 1.04185259],\n",
              "       [ 0.24320206],\n",
              "       [-0.09511927]])"
            ]
          },
          "metadata": {},
          "execution_count": 39
        }
      ]
    },
    {
      "cell_type": "code",
      "source": [
        "#Convert a NumPy array to Pandas dataframe with headers\n",
        "df1 = pd.DataFrame(meandata, columns =['CO'])\n",
        "print(\"\\nPandas DataFrame: \")\n",
        "df1"
      ],
      "metadata": {
        "id": "8Tj1Rf9uaYaw"
      },
      "execution_count": null,
      "outputs": []
    }
  ]
}
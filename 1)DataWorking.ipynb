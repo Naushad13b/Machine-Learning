{
  "nbformat": 4,
  "nbformat_minor": 0,
  "metadata": {
    "colab": {
      "name": "1)DataWorking.ipynb",
      "provenance": [],
      "collapsed_sections": [],
      "toc_visible": true,
      "authorship_tag": "ABX9TyPCH6WtNyrMnsKLS7GeWWl0",
      "include_colab_link": true
    },
    "kernelspec": {
      "display_name": "Python 3",
      "name": "python3"
    }
  },
  "cells": [
    {
      "cell_type": "markdown",
      "metadata": {
        "id": "view-in-github",
        "colab_type": "text"
      },
      "source": [
        "<a href=\"https://colab.research.google.com/github/Naushad13b/Machine-Learning/blob/main/1)DataWorking.ipynb\" target=\"_parent\"><img src=\"https://colab.research.google.com/assets/colab-badge.svg\" alt=\"Open In Colab\"/></a>"
      ]
    },
    {
      "cell_type": "code",
      "metadata": {
        "id": "yXPLhsi0xtQV"
      },
      "source": [
        "import pandas as pd\n",
        "from matplotlib import pyplot as plt\n",
        "df = pd.read_csv('all_patna.csv')\n",
        "df2=df.loc[(df['parameter'] == 'o3')]\n",
        "\n",
        "\n"
      ],
      "execution_count": null,
      "outputs": []
    },
    {
      "cell_type": "code",
      "metadata": {
        "colab": {
          "base_uri": "https://localhost:8080/",
          "height": 564
        },
        "id": "tT69i7YwtsZs",
        "outputId": "83580e0e-92c5-409e-ab75-fceb90aee8d5"
      },
      "source": [
        "df.head()"
      ],
      "execution_count": null,
      "outputs": [
        {
          "output_type": "execute_result",
          "data": {
            "text/html": [
              "<div>\n",
              "<style scoped>\n",
              "    .dataframe tbody tr th:only-of-type {\n",
              "        vertical-align: middle;\n",
              "    }\n",
              "\n",
              "    .dataframe tbody tr th {\n",
              "        vertical-align: top;\n",
              "    }\n",
              "\n",
              "    .dataframe thead th {\n",
              "        text-align: right;\n",
              "    }\n",
              "</style>\n",
              "<table border=\"1\" class=\"dataframe\">\n",
              "  <thead>\n",
              "    <tr style=\"text-align: right;\">\n",
              "      <th></th>\n",
              "      <th>location</th>\n",
              "      <th>city</th>\n",
              "      <th>country</th>\n",
              "      <th>utc</th>\n",
              "      <th>local</th>\n",
              "      <th>parameter</th>\n",
              "      <th>value</th>\n",
              "      <th>unit</th>\n",
              "      <th>latitude</th>\n",
              "      <th>longitude</th>\n",
              "      <th>attribution</th>\n",
              "    </tr>\n",
              "  </thead>\n",
              "  <tbody>\n",
              "    <tr>\n",
              "      <th>0</th>\n",
              "      <td>DRM Office Danapur, Patna - BSPCB</td>\n",
              "      <td>Patna</td>\n",
              "      <td>IN</td>\n",
              "      <td>2020-04-06T17:15:00.000Z</td>\n",
              "      <td>2020-04-06T22:45:00+05:30</td>\n",
              "      <td>pm10</td>\n",
              "      <td>0.0</td>\n",
              "      <td>µg/m³</td>\n",
              "      <td>25.586562</td>\n",
              "      <td>85.043586</td>\n",
              "      <td>[{\"name\":\"Central Pollution Control Board\",\"ur...</td>\n",
              "    </tr>\n",
              "    <tr>\n",
              "      <th>1</th>\n",
              "      <td>DRM Office Danapur, Patna - BSPCB</td>\n",
              "      <td>Patna</td>\n",
              "      <td>IN</td>\n",
              "      <td>2020-04-06T17:15:00.000Z</td>\n",
              "      <td>2020-04-06T22:45:00+05:30</td>\n",
              "      <td>no2</td>\n",
              "      <td>0.0</td>\n",
              "      <td>µg/m³</td>\n",
              "      <td>25.586562</td>\n",
              "      <td>85.043586</td>\n",
              "      <td>[{\"name\":\"Central Pollution Control Board\",\"ur...</td>\n",
              "    </tr>\n",
              "    <tr>\n",
              "      <th>2</th>\n",
              "      <td>DRM Office Danapur, Patna - BSPCB</td>\n",
              "      <td>Patna</td>\n",
              "      <td>IN</td>\n",
              "      <td>2020-04-06T17:15:00.000Z</td>\n",
              "      <td>2020-04-06T22:45:00+05:30</td>\n",
              "      <td>o3</td>\n",
              "      <td>0.0</td>\n",
              "      <td>µg/m³</td>\n",
              "      <td>25.586562</td>\n",
              "      <td>85.043586</td>\n",
              "      <td>[{\"name\":\"Central Pollution Control Board\",\"ur...</td>\n",
              "    </tr>\n",
              "    <tr>\n",
              "      <th>3</th>\n",
              "      <td>DRM Office Danapur, Patna - BSPCB</td>\n",
              "      <td>Patna</td>\n",
              "      <td>IN</td>\n",
              "      <td>2020-04-06T17:15:00.000Z</td>\n",
              "      <td>2020-04-06T22:45:00+05:30</td>\n",
              "      <td>co</td>\n",
              "      <td>0.0</td>\n",
              "      <td>µg/m³</td>\n",
              "      <td>25.586562</td>\n",
              "      <td>85.043586</td>\n",
              "      <td>[{\"name\":\"Central Pollution Control Board\",\"ur...</td>\n",
              "    </tr>\n",
              "    <tr>\n",
              "      <th>4</th>\n",
              "      <td>DRM Office Danapur, Patna - BSPCB</td>\n",
              "      <td>Patna</td>\n",
              "      <td>IN</td>\n",
              "      <td>2020-04-06T17:15:00.000Z</td>\n",
              "      <td>2020-04-06T22:45:00+05:30</td>\n",
              "      <td>so2</td>\n",
              "      <td>0.0</td>\n",
              "      <td>µg/m³</td>\n",
              "      <td>25.586562</td>\n",
              "      <td>85.043586</td>\n",
              "      <td>[{\"name\":\"Central Pollution Control Board\",\"ur...</td>\n",
              "    </tr>\n",
              "  </tbody>\n",
              "</table>\n",
              "</div>"
            ],
            "text/plain": [
              "                            location  ...                                        attribution\n",
              "0  DRM Office Danapur, Patna - BSPCB  ...  [{\"name\":\"Central Pollution Control Board\",\"ur...\n",
              "1  DRM Office Danapur, Patna - BSPCB  ...  [{\"name\":\"Central Pollution Control Board\",\"ur...\n",
              "2  DRM Office Danapur, Patna - BSPCB  ...  [{\"name\":\"Central Pollution Control Board\",\"ur...\n",
              "3  DRM Office Danapur, Patna - BSPCB  ...  [{\"name\":\"Central Pollution Control Board\",\"ur...\n",
              "4  DRM Office Danapur, Patna - BSPCB  ...  [{\"name\":\"Central Pollution Control Board\",\"ur...\n",
              "\n",
              "[5 rows x 11 columns]"
            ]
          },
          "metadata": {
            "tags": []
          },
          "execution_count": 2
        }
      ]
    },
    {
      "cell_type": "code",
      "metadata": {
        "colab": {
          "base_uri": "https://localhost:8080/",
          "height": 1000
        },
        "id": "W0-J7wy_FwGs",
        "outputId": "c20ad25f-233b-416a-abf1-900f669eddcc"
      },
      "source": [
        "df2"
      ],
      "execution_count": null,
      "outputs": [
        {
          "output_type": "execute_result",
          "data": {
            "text/html": [
              "<div>\n",
              "<style scoped>\n",
              "    .dataframe tbody tr th:only-of-type {\n",
              "        vertical-align: middle;\n",
              "    }\n",
              "\n",
              "    .dataframe tbody tr th {\n",
              "        vertical-align: top;\n",
              "    }\n",
              "\n",
              "    .dataframe thead th {\n",
              "        text-align: right;\n",
              "    }\n",
              "</style>\n",
              "<table border=\"1\" class=\"dataframe\">\n",
              "  <thead>\n",
              "    <tr style=\"text-align: right;\">\n",
              "      <th></th>\n",
              "      <th>location</th>\n",
              "      <th>city</th>\n",
              "      <th>country</th>\n",
              "      <th>utc</th>\n",
              "      <th>local</th>\n",
              "      <th>parameter</th>\n",
              "      <th>value</th>\n",
              "      <th>unit</th>\n",
              "      <th>latitude</th>\n",
              "      <th>longitude</th>\n",
              "      <th>attribution</th>\n",
              "    </tr>\n",
              "  </thead>\n",
              "  <tbody>\n",
              "    <tr>\n",
              "      <th>2</th>\n",
              "      <td>DRM Office Danapur, Patna - BSPCB</td>\n",
              "      <td>Patna</td>\n",
              "      <td>IN</td>\n",
              "      <td>2020-04-06T17:15:00.000Z</td>\n",
              "      <td>2020-04-06T22:45:00+05:30</td>\n",
              "      <td>o3</td>\n",
              "      <td>0.00</td>\n",
              "      <td>µg/m³</td>\n",
              "      <td>25.586562</td>\n",
              "      <td>85.043586</td>\n",
              "      <td>[{\"name\":\"Central Pollution Control Board\",\"ur...</td>\n",
              "    </tr>\n",
              "    <tr>\n",
              "      <th>6</th>\n",
              "      <td>DRM Office Danapur, Patna - BSPCB</td>\n",
              "      <td>Patna</td>\n",
              "      <td>IN</td>\n",
              "      <td>2020-04-06T17:00:00.000Z</td>\n",
              "      <td>2020-04-06T22:30:00+05:30</td>\n",
              "      <td>o3</td>\n",
              "      <td>0.00</td>\n",
              "      <td>µg/m³</td>\n",
              "      <td>25.586562</td>\n",
              "      <td>85.043586</td>\n",
              "      <td>[{\"name\":\"Central Pollution Control Board\",\"ur...</td>\n",
              "    </tr>\n",
              "    <tr>\n",
              "      <th>11</th>\n",
              "      <td>DRM Office Danapur, Patna - BSPCB</td>\n",
              "      <td>Patna</td>\n",
              "      <td>IN</td>\n",
              "      <td>2020-04-06T16:45:00.000Z</td>\n",
              "      <td>2020-04-06T22:15:00+05:30</td>\n",
              "      <td>o3</td>\n",
              "      <td>0.00</td>\n",
              "      <td>µg/m³</td>\n",
              "      <td>25.586562</td>\n",
              "      <td>85.043586</td>\n",
              "      <td>[{\"name\":\"Central Pollution Control Board\",\"ur...</td>\n",
              "    </tr>\n",
              "    <tr>\n",
              "      <th>17</th>\n",
              "      <td>DRM Office Danapur, Patna - BSPCB</td>\n",
              "      <td>Patna</td>\n",
              "      <td>IN</td>\n",
              "      <td>2020-04-06T16:30:00.000Z</td>\n",
              "      <td>2020-04-06T22:00:00+05:30</td>\n",
              "      <td>o3</td>\n",
              "      <td>0.00</td>\n",
              "      <td>µg/m³</td>\n",
              "      <td>25.586562</td>\n",
              "      <td>85.043586</td>\n",
              "      <td>[{\"name\":\"Central Pollution Control Board\",\"ur...</td>\n",
              "    </tr>\n",
              "    <tr>\n",
              "      <th>21</th>\n",
              "      <td>DRM Office Danapur, Patna - BSPCB</td>\n",
              "      <td>Patna</td>\n",
              "      <td>IN</td>\n",
              "      <td>2020-04-06T16:15:00.000Z</td>\n",
              "      <td>2020-04-06T21:45:00+05:30</td>\n",
              "      <td>o3</td>\n",
              "      <td>0.00</td>\n",
              "      <td>µg/m³</td>\n",
              "      <td>25.586562</td>\n",
              "      <td>85.043586</td>\n",
              "      <td>[{\"name\":\"Central Pollution Control Board\",\"ur...</td>\n",
              "    </tr>\n",
              "    <tr>\n",
              "      <th>...</th>\n",
              "      <td>...</td>\n",
              "      <td>...</td>\n",
              "      <td>...</td>\n",
              "      <td>...</td>\n",
              "      <td>...</td>\n",
              "      <td>...</td>\n",
              "      <td>...</td>\n",
              "      <td>...</td>\n",
              "      <td>...</td>\n",
              "      <td>...</td>\n",
              "      <td>...</td>\n",
              "    </tr>\n",
              "    <tr>\n",
              "      <th>5114</th>\n",
              "      <td>DRM Office Danapur, Patna - BSPCB</td>\n",
              "      <td>Patna</td>\n",
              "      <td>IN</td>\n",
              "      <td>2020-03-09T07:45:00.000Z</td>\n",
              "      <td>2020-03-09T13:15:00+05:30</td>\n",
              "      <td>o3</td>\n",
              "      <td>86.95</td>\n",
              "      <td>µg/m³</td>\n",
              "      <td>25.586562</td>\n",
              "      <td>85.043586</td>\n",
              "      <td>[{\"name\":\"Central Pollution Control Board\",\"ur...</td>\n",
              "    </tr>\n",
              "    <tr>\n",
              "      <th>5117</th>\n",
              "      <td>DRM Office Danapur, Patna - BSPCB</td>\n",
              "      <td>Patna</td>\n",
              "      <td>IN</td>\n",
              "      <td>2020-03-09T06:30:00.000Z</td>\n",
              "      <td>2020-03-09T12:00:00+05:30</td>\n",
              "      <td>o3</td>\n",
              "      <td>96.85</td>\n",
              "      <td>µg/m³</td>\n",
              "      <td>25.586562</td>\n",
              "      <td>85.043586</td>\n",
              "      <td>[{\"name\":\"Central Pollution Control Board\",\"ur...</td>\n",
              "    </tr>\n",
              "    <tr>\n",
              "      <th>5124</th>\n",
              "      <td>DRM Office Danapur, Patna - BSPCB</td>\n",
              "      <td>Patna</td>\n",
              "      <td>IN</td>\n",
              "      <td>2020-03-09T05:30:00.000Z</td>\n",
              "      <td>2020-03-09T11:00:00+05:30</td>\n",
              "      <td>o3</td>\n",
              "      <td>99.08</td>\n",
              "      <td>µg/m³</td>\n",
              "      <td>25.586562</td>\n",
              "      <td>85.043586</td>\n",
              "      <td>[{\"name\":\"Central Pollution Control Board\",\"ur...</td>\n",
              "    </tr>\n",
              "    <tr>\n",
              "      <th>5129</th>\n",
              "      <td>DRM Office Danapur, Patna - BSPCB</td>\n",
              "      <td>Patna</td>\n",
              "      <td>IN</td>\n",
              "      <td>2020-03-09T05:15:00.000Z</td>\n",
              "      <td>2020-03-09T10:45:00+05:30</td>\n",
              "      <td>o3</td>\n",
              "      <td>88.58</td>\n",
              "      <td>µg/m³</td>\n",
              "      <td>25.586562</td>\n",
              "      <td>85.043586</td>\n",
              "      <td>[{\"name\":\"Central Pollution Control Board\",\"ur...</td>\n",
              "    </tr>\n",
              "    <tr>\n",
              "      <th>5132</th>\n",
              "      <td>DRM Office Danapur, Patna - BSPCB</td>\n",
              "      <td>Patna</td>\n",
              "      <td>IN</td>\n",
              "      <td>2020-03-09T05:00:00.000Z</td>\n",
              "      <td>2020-03-09T10:30:00+05:30</td>\n",
              "      <td>o3</td>\n",
              "      <td>88.36</td>\n",
              "      <td>µg/m³</td>\n",
              "      <td>25.586562</td>\n",
              "      <td>85.043586</td>\n",
              "      <td>[{\"name\":\"Central Pollution Control Board\",\"ur...</td>\n",
              "    </tr>\n",
              "  </tbody>\n",
              "</table>\n",
              "<p>1027 rows × 11 columns</p>\n",
              "</div>"
            ],
            "text/plain": [
              "                               location  ...                                        attribution\n",
              "2     DRM Office Danapur, Patna - BSPCB  ...  [{\"name\":\"Central Pollution Control Board\",\"ur...\n",
              "6     DRM Office Danapur, Patna - BSPCB  ...  [{\"name\":\"Central Pollution Control Board\",\"ur...\n",
              "11    DRM Office Danapur, Patna - BSPCB  ...  [{\"name\":\"Central Pollution Control Board\",\"ur...\n",
              "17    DRM Office Danapur, Patna - BSPCB  ...  [{\"name\":\"Central Pollution Control Board\",\"ur...\n",
              "21    DRM Office Danapur, Patna - BSPCB  ...  [{\"name\":\"Central Pollution Control Board\",\"ur...\n",
              "...                                 ...  ...                                                ...\n",
              "5114  DRM Office Danapur, Patna - BSPCB  ...  [{\"name\":\"Central Pollution Control Board\",\"ur...\n",
              "5117  DRM Office Danapur, Patna - BSPCB  ...  [{\"name\":\"Central Pollution Control Board\",\"ur...\n",
              "5124  DRM Office Danapur, Patna - BSPCB  ...  [{\"name\":\"Central Pollution Control Board\",\"ur...\n",
              "5129  DRM Office Danapur, Patna - BSPCB  ...  [{\"name\":\"Central Pollution Control Board\",\"ur...\n",
              "5132  DRM Office Danapur, Patna - BSPCB  ...  [{\"name\":\"Central Pollution Control Board\",\"ur...\n",
              "\n",
              "[1027 rows x 11 columns]"
            ]
          },
          "metadata": {
            "tags": []
          },
          "execution_count": 3
        }
      ]
    },
    {
      "cell_type": "markdown",
      "metadata": {
        "id": "qM7PfGfByakP"
      },
      "source": [
        "# New Section"
      ]
    },
    {
      "cell_type": "code",
      "metadata": {
        "colab": {
          "base_uri": "https://localhost:8080/",
          "height": 564
        },
        "id": "lGF8Cyy3pOPU",
        "outputId": "aef3f100-ac83-40ea-c479-53b6722344d4"
      },
      "source": [
        "   df2.head()"
      ],
      "execution_count": null,
      "outputs": [
        {
          "output_type": "execute_result",
          "data": {
            "text/html": [
              "<div>\n",
              "<style scoped>\n",
              "    .dataframe tbody tr th:only-of-type {\n",
              "        vertical-align: middle;\n",
              "    }\n",
              "\n",
              "    .dataframe tbody tr th {\n",
              "        vertical-align: top;\n",
              "    }\n",
              "\n",
              "    .dataframe thead th {\n",
              "        text-align: right;\n",
              "    }\n",
              "</style>\n",
              "<table border=\"1\" class=\"dataframe\">\n",
              "  <thead>\n",
              "    <tr style=\"text-align: right;\">\n",
              "      <th></th>\n",
              "      <th>location</th>\n",
              "      <th>city</th>\n",
              "      <th>country</th>\n",
              "      <th>utc</th>\n",
              "      <th>local</th>\n",
              "      <th>parameter</th>\n",
              "      <th>value</th>\n",
              "      <th>unit</th>\n",
              "      <th>latitude</th>\n",
              "      <th>longitude</th>\n",
              "      <th>attribution</th>\n",
              "    </tr>\n",
              "  </thead>\n",
              "  <tbody>\n",
              "    <tr>\n",
              "      <th>2</th>\n",
              "      <td>DRM Office Danapur, Patna - BSPCB</td>\n",
              "      <td>Patna</td>\n",
              "      <td>IN</td>\n",
              "      <td>2020-04-06T17:15:00.000Z</td>\n",
              "      <td>2020-04-06T22:45:00+05:30</td>\n",
              "      <td>o3</td>\n",
              "      <td>0.0</td>\n",
              "      <td>µg/m³</td>\n",
              "      <td>25.586562</td>\n",
              "      <td>85.043586</td>\n",
              "      <td>[{\"name\":\"Central Pollution Control Board\",\"ur...</td>\n",
              "    </tr>\n",
              "    <tr>\n",
              "      <th>6</th>\n",
              "      <td>DRM Office Danapur, Patna - BSPCB</td>\n",
              "      <td>Patna</td>\n",
              "      <td>IN</td>\n",
              "      <td>2020-04-06T17:00:00.000Z</td>\n",
              "      <td>2020-04-06T22:30:00+05:30</td>\n",
              "      <td>o3</td>\n",
              "      <td>0.0</td>\n",
              "      <td>µg/m³</td>\n",
              "      <td>25.586562</td>\n",
              "      <td>85.043586</td>\n",
              "      <td>[{\"name\":\"Central Pollution Control Board\",\"ur...</td>\n",
              "    </tr>\n",
              "    <tr>\n",
              "      <th>11</th>\n",
              "      <td>DRM Office Danapur, Patna - BSPCB</td>\n",
              "      <td>Patna</td>\n",
              "      <td>IN</td>\n",
              "      <td>2020-04-06T16:45:00.000Z</td>\n",
              "      <td>2020-04-06T22:15:00+05:30</td>\n",
              "      <td>o3</td>\n",
              "      <td>0.0</td>\n",
              "      <td>µg/m³</td>\n",
              "      <td>25.586562</td>\n",
              "      <td>85.043586</td>\n",
              "      <td>[{\"name\":\"Central Pollution Control Board\",\"ur...</td>\n",
              "    </tr>\n",
              "    <tr>\n",
              "      <th>17</th>\n",
              "      <td>DRM Office Danapur, Patna - BSPCB</td>\n",
              "      <td>Patna</td>\n",
              "      <td>IN</td>\n",
              "      <td>2020-04-06T16:30:00.000Z</td>\n",
              "      <td>2020-04-06T22:00:00+05:30</td>\n",
              "      <td>o3</td>\n",
              "      <td>0.0</td>\n",
              "      <td>µg/m³</td>\n",
              "      <td>25.586562</td>\n",
              "      <td>85.043586</td>\n",
              "      <td>[{\"name\":\"Central Pollution Control Board\",\"ur...</td>\n",
              "    </tr>\n",
              "    <tr>\n",
              "      <th>21</th>\n",
              "      <td>DRM Office Danapur, Patna - BSPCB</td>\n",
              "      <td>Patna</td>\n",
              "      <td>IN</td>\n",
              "      <td>2020-04-06T16:15:00.000Z</td>\n",
              "      <td>2020-04-06T21:45:00+05:30</td>\n",
              "      <td>o3</td>\n",
              "      <td>0.0</td>\n",
              "      <td>µg/m³</td>\n",
              "      <td>25.586562</td>\n",
              "      <td>85.043586</td>\n",
              "      <td>[{\"name\":\"Central Pollution Control Board\",\"ur...</td>\n",
              "    </tr>\n",
              "  </tbody>\n",
              "</table>\n",
              "</div>"
            ],
            "text/plain": [
              "                             location  ...                                        attribution\n",
              "2   DRM Office Danapur, Patna - BSPCB  ...  [{\"name\":\"Central Pollution Control Board\",\"ur...\n",
              "6   DRM Office Danapur, Patna - BSPCB  ...  [{\"name\":\"Central Pollution Control Board\",\"ur...\n",
              "11  DRM Office Danapur, Patna - BSPCB  ...  [{\"name\":\"Central Pollution Control Board\",\"ur...\n",
              "17  DRM Office Danapur, Patna - BSPCB  ...  [{\"name\":\"Central Pollution Control Board\",\"ur...\n",
              "21  DRM Office Danapur, Patna - BSPCB  ...  [{\"name\":\"Central Pollution Control Board\",\"ur...\n",
              "\n",
              "[5 rows x 11 columns]"
            ]
          },
          "metadata": {
            "tags": []
          },
          "execution_count": 6
        }
      ]
    },
    {
      "cell_type": "code",
      "metadata": {
        "id": "br_PFhq8pzEj"
      },
      "source": [
        "df3=df2.loc[(df['value']!=0.0)]"
      ],
      "execution_count": null,
      "outputs": []
    },
    {
      "cell_type": "code",
      "metadata": {
        "colab": {
          "base_uri": "https://localhost:8080/",
          "height": 1000
        },
        "id": "8MzaV8QM5dXL",
        "outputId": "577c2570-afbb-4b04-860d-b9c02bc0bc3d"
      },
      "source": [
        "df3"
      ],
      "execution_count": null,
      "outputs": [
        {
          "output_type": "execute_result",
          "data": {
            "text/html": [
              "<div>\n",
              "<style scoped>\n",
              "    .dataframe tbody tr th:only-of-type {\n",
              "        vertical-align: middle;\n",
              "    }\n",
              "\n",
              "    .dataframe tbody tr th {\n",
              "        vertical-align: top;\n",
              "    }\n",
              "\n",
              "    .dataframe thead th {\n",
              "        text-align: right;\n",
              "    }\n",
              "</style>\n",
              "<table border=\"1\" class=\"dataframe\">\n",
              "  <thead>\n",
              "    <tr style=\"text-align: right;\">\n",
              "      <th></th>\n",
              "      <th>location</th>\n",
              "      <th>city</th>\n",
              "      <th>country</th>\n",
              "      <th>utc</th>\n",
              "      <th>local</th>\n",
              "      <th>parameter</th>\n",
              "      <th>value</th>\n",
              "      <th>unit</th>\n",
              "      <th>latitude</th>\n",
              "      <th>longitude</th>\n",
              "      <th>attribution</th>\n",
              "    </tr>\n",
              "  </thead>\n",
              "  <tbody>\n",
              "    <tr>\n",
              "      <th>1439</th>\n",
              "      <td>DRM Office Danapur, Patna - BSPCB</td>\n",
              "      <td>Patna</td>\n",
              "      <td>IN</td>\n",
              "      <td>2020-03-23T14:30:00.000Z</td>\n",
              "      <td>2020-03-23T20:00:00+05:30</td>\n",
              "      <td>o3</td>\n",
              "      <td>32.71</td>\n",
              "      <td>µg/m³</td>\n",
              "      <td>25.586562</td>\n",
              "      <td>85.043586</td>\n",
              "      <td>[{\"name\":\"Central Pollution Control Board\",\"ur...</td>\n",
              "    </tr>\n",
              "    <tr>\n",
              "      <th>1442</th>\n",
              "      <td>DRM Office Danapur, Patna - BSPCB</td>\n",
              "      <td>Patna</td>\n",
              "      <td>IN</td>\n",
              "      <td>2020-03-23T05:15:00.000Z</td>\n",
              "      <td>2020-03-23T10:45:00+05:30</td>\n",
              "      <td>o3</td>\n",
              "      <td>86.94</td>\n",
              "      <td>µg/m³</td>\n",
              "      <td>25.586562</td>\n",
              "      <td>85.043586</td>\n",
              "      <td>[{\"name\":\"Central Pollution Control Board\",\"ur...</td>\n",
              "    </tr>\n",
              "    <tr>\n",
              "      <th>1449</th>\n",
              "      <td>DRM Office Danapur, Patna - BSPCB</td>\n",
              "      <td>Patna</td>\n",
              "      <td>IN</td>\n",
              "      <td>2020-03-22T16:45:00.000Z</td>\n",
              "      <td>2020-03-22T22:15:00+05:30</td>\n",
              "      <td>o3</td>\n",
              "      <td>48.05</td>\n",
              "      <td>µg/m³</td>\n",
              "      <td>25.586562</td>\n",
              "      <td>85.043586</td>\n",
              "      <td>[{\"name\":\"Central Pollution Control Board\",\"ur...</td>\n",
              "    </tr>\n",
              "    <tr>\n",
              "      <th>1454</th>\n",
              "      <td>DRM Office Danapur, Patna - BSPCB</td>\n",
              "      <td>Patna</td>\n",
              "      <td>IN</td>\n",
              "      <td>2020-03-22T15:00:00.000Z</td>\n",
              "      <td>2020-03-22T20:30:00+05:30</td>\n",
              "      <td>o3</td>\n",
              "      <td>2.48</td>\n",
              "      <td>µg/m³</td>\n",
              "      <td>25.586562</td>\n",
              "      <td>85.043586</td>\n",
              "      <td>[{\"name\":\"Central Pollution Control Board\",\"ur...</td>\n",
              "    </tr>\n",
              "    <tr>\n",
              "      <th>1455</th>\n",
              "      <td>DRM Office Danapur, Patna - BSPCB</td>\n",
              "      <td>Patna</td>\n",
              "      <td>IN</td>\n",
              "      <td>2020-03-22T13:00:00.000Z</td>\n",
              "      <td>2020-03-22T18:30:00+05:30</td>\n",
              "      <td>o3</td>\n",
              "      <td>19.99</td>\n",
              "      <td>µg/m³</td>\n",
              "      <td>25.586562</td>\n",
              "      <td>85.043586</td>\n",
              "      <td>[{\"name\":\"Central Pollution Control Board\",\"ur...</td>\n",
              "    </tr>\n",
              "    <tr>\n",
              "      <th>...</th>\n",
              "      <td>...</td>\n",
              "      <td>...</td>\n",
              "      <td>...</td>\n",
              "      <td>...</td>\n",
              "      <td>...</td>\n",
              "      <td>...</td>\n",
              "      <td>...</td>\n",
              "      <td>...</td>\n",
              "      <td>...</td>\n",
              "      <td>...</td>\n",
              "      <td>...</td>\n",
              "    </tr>\n",
              "    <tr>\n",
              "      <th>5114</th>\n",
              "      <td>DRM Office Danapur, Patna - BSPCB</td>\n",
              "      <td>Patna</td>\n",
              "      <td>IN</td>\n",
              "      <td>2020-03-09T07:45:00.000Z</td>\n",
              "      <td>2020-03-09T13:15:00+05:30</td>\n",
              "      <td>o3</td>\n",
              "      <td>86.95</td>\n",
              "      <td>µg/m³</td>\n",
              "      <td>25.586562</td>\n",
              "      <td>85.043586</td>\n",
              "      <td>[{\"name\":\"Central Pollution Control Board\",\"ur...</td>\n",
              "    </tr>\n",
              "    <tr>\n",
              "      <th>5117</th>\n",
              "      <td>DRM Office Danapur, Patna - BSPCB</td>\n",
              "      <td>Patna</td>\n",
              "      <td>IN</td>\n",
              "      <td>2020-03-09T06:30:00.000Z</td>\n",
              "      <td>2020-03-09T12:00:00+05:30</td>\n",
              "      <td>o3</td>\n",
              "      <td>96.85</td>\n",
              "      <td>µg/m³</td>\n",
              "      <td>25.586562</td>\n",
              "      <td>85.043586</td>\n",
              "      <td>[{\"name\":\"Central Pollution Control Board\",\"ur...</td>\n",
              "    </tr>\n",
              "    <tr>\n",
              "      <th>5124</th>\n",
              "      <td>DRM Office Danapur, Patna - BSPCB</td>\n",
              "      <td>Patna</td>\n",
              "      <td>IN</td>\n",
              "      <td>2020-03-09T05:30:00.000Z</td>\n",
              "      <td>2020-03-09T11:00:00+05:30</td>\n",
              "      <td>o3</td>\n",
              "      <td>99.08</td>\n",
              "      <td>µg/m³</td>\n",
              "      <td>25.586562</td>\n",
              "      <td>85.043586</td>\n",
              "      <td>[{\"name\":\"Central Pollution Control Board\",\"ur...</td>\n",
              "    </tr>\n",
              "    <tr>\n",
              "      <th>5129</th>\n",
              "      <td>DRM Office Danapur, Patna - BSPCB</td>\n",
              "      <td>Patna</td>\n",
              "      <td>IN</td>\n",
              "      <td>2020-03-09T05:15:00.000Z</td>\n",
              "      <td>2020-03-09T10:45:00+05:30</td>\n",
              "      <td>o3</td>\n",
              "      <td>88.58</td>\n",
              "      <td>µg/m³</td>\n",
              "      <td>25.586562</td>\n",
              "      <td>85.043586</td>\n",
              "      <td>[{\"name\":\"Central Pollution Control Board\",\"ur...</td>\n",
              "    </tr>\n",
              "    <tr>\n",
              "      <th>5132</th>\n",
              "      <td>DRM Office Danapur, Patna - BSPCB</td>\n",
              "      <td>Patna</td>\n",
              "      <td>IN</td>\n",
              "      <td>2020-03-09T05:00:00.000Z</td>\n",
              "      <td>2020-03-09T10:30:00+05:30</td>\n",
              "      <td>o3</td>\n",
              "      <td>88.36</td>\n",
              "      <td>µg/m³</td>\n",
              "      <td>25.586562</td>\n",
              "      <td>85.043586</td>\n",
              "      <td>[{\"name\":\"Central Pollution Control Board\",\"ur...</td>\n",
              "    </tr>\n",
              "  </tbody>\n",
              "</table>\n",
              "<p>688 rows × 11 columns</p>\n",
              "</div>"
            ],
            "text/plain": [
              "                               location  ...                                        attribution\n",
              "1439  DRM Office Danapur, Patna - BSPCB  ...  [{\"name\":\"Central Pollution Control Board\",\"ur...\n",
              "1442  DRM Office Danapur, Patna - BSPCB  ...  [{\"name\":\"Central Pollution Control Board\",\"ur...\n",
              "1449  DRM Office Danapur, Patna - BSPCB  ...  [{\"name\":\"Central Pollution Control Board\",\"ur...\n",
              "1454  DRM Office Danapur, Patna - BSPCB  ...  [{\"name\":\"Central Pollution Control Board\",\"ur...\n",
              "1455  DRM Office Danapur, Patna - BSPCB  ...  [{\"name\":\"Central Pollution Control Board\",\"ur...\n",
              "...                                 ...  ...                                                ...\n",
              "5114  DRM Office Danapur, Patna - BSPCB  ...  [{\"name\":\"Central Pollution Control Board\",\"ur...\n",
              "5117  DRM Office Danapur, Patna - BSPCB  ...  [{\"name\":\"Central Pollution Control Board\",\"ur...\n",
              "5124  DRM Office Danapur, Patna - BSPCB  ...  [{\"name\":\"Central Pollution Control Board\",\"ur...\n",
              "5129  DRM Office Danapur, Patna - BSPCB  ...  [{\"name\":\"Central Pollution Control Board\",\"ur...\n",
              "5132  DRM Office Danapur, Patna - BSPCB  ...  [{\"name\":\"Central Pollution Control Board\",\"ur...\n",
              "\n",
              "[688 rows x 11 columns]"
            ]
          },
          "metadata": {
            "tags": []
          },
          "execution_count": 8
        }
      ]
    },
    {
      "cell_type": "markdown",
      "metadata": {
        "id": "5ODU4UKPqwrR"
      },
      "source": [
        "graph code"
      ]
    },
    {
      "cell_type": "code",
      "metadata": {
        "colab": {
          "base_uri": "https://localhost:8080/",
          "height": 265
        },
        "id": "Y_6MY9918lXO",
        "outputId": "0991d21e-cacd-461f-a353-d547aa33d097"
      },
      "source": [
        "\n",
        "plt.plot(df.parameter, df.value)\n",
        "plt.show()"
      ],
      "execution_count": null,
      "outputs": [
        {
          "output_type": "display_data",
          "data": {
            "image/png": "[encoded data removed]",
            "text/plain": [
              "<Figure size 432x288 with 1 Axes>"
            ]
          },
          "metadata": {
            "tags": [],
            "needs_background": "light"
          }
        }
      ]
    },
    {
      "cell_type": "markdown",
      "metadata": {
        "id": "CmmVeB9ZqrYw"
      },
      "source": [
        "hsxgdhx"
      ]
    },
    {
      "cell_type": "code",
      "metadata": {
        "id": "bP7J7Jilqs1U"
      },
      "source": [
        "value1=df3.value"
      ],
      "execution_count": null,
      "outputs": []
    },
    {
      "cell_type": "code",
      "metadata": {
        "colab": {
          "base_uri": "https://localhost:8080/"
        },
        "id": "kfs19e-2r0ko",
        "outputId": "bfc36f77-8f03-427a-9081-2489e2624b4e"
      },
      "source": [
        "value1.mean()"
      ],
      "execution_count": null,
      "outputs": [
        {
          "output_type": "execute_result",
          "data": {
            "text/plain": [
              "33.16866279069773"
            ]
          },
          "metadata": {
            "tags": []
          },
          "execution_count": 11
        }
      ]
    },
    {
      "cell_type": "code",
      "metadata": {
        "colab": {
          "base_uri": "https://localhost:8080/"
        },
        "id": "hmWvXNnXtaJa",
        "outputId": "1340fac5-f8dc-4ae0-c073-d8c17c8041d1"
      },
      "source": [
        "df.columns"
      ],
      "execution_count": null,
      "outputs": [
        {
          "output_type": "execute_result",
          "data": {
            "text/plain": [
              "Index(['location', 'city', 'country', 'utc', 'local', 'parameter', 'value',\n",
              "       'unit', 'latitude', 'longitude', 'attribution'],\n",
              "      dtype='object')"
            ]
          },
          "metadata": {
            "tags": []
          },
          "execution_count": 12
        }
      ]
    },
    {
      "cell_type": "code",
      "metadata": {
        "id": "9opwClVLue5X"
      },
      "source": [
        "para=df['parameter']"
      ],
      "execution_count": null,
      "outputs": []
    },
    {
      "cell_type": "code",
      "metadata": {
        "id": "LLgZVFEXuxhl"
      },
      "source": [
        "para1=set(para)"
      ],
      "execution_count": null,
      "outputs": []
    },
    {
      "cell_type": "code",
      "metadata": {
        "colab": {
          "base_uri": "https://localhost:8080/"
        },
        "id": "KKWHqxznu4nZ",
        "outputId": "7a726b0c-e565-4cfb-f896-52a3685795d2"
      },
      "source": [
        "para1"
      ],
      "execution_count": null,
      "outputs": [
        {
          "output_type": "execute_result",
          "data": {
            "text/plain": [
              "{'co', 'no2', 'o3', 'pm10', 'so2'}"
            ]
          },
          "metadata": {
            "tags": []
          },
          "execution_count": 15
        }
      ]
    },
    {
      "cell_type": "code",
      "metadata": {
        "colab": {
          "base_uri": "https://localhost:8080/"
        },
        "id": "HRWeLqxJvDXb",
        "outputId": "099a38a3-8dd2-4b74-9d7d-1809ee1d8bcd"
      },
      "source": [
        "for i in para1:\n",
        "  print(i)"
      ],
      "execution_count": null,
      "outputs": [
        {
          "output_type": "stream",
          "text": [
            "no2\n",
            "pm10\n",
            "co\n",
            "o3\n",
            "so2\n"
          ],
          "name": "stdout"
        }
      ]
    },
    {
      "cell_type": "code",
      "metadata": {
        "id": "77gArMcSvRDO"
      },
      "source": [
        "all=[]\n",
        "name=[]\n",
        "for i in para1:\n",
        "  df2=df.loc[(df['parameter'] == i)]\n",
        "  df3=df2.loc[(df['value']!=0.0)]\n",
        "  value1=df3.value\n",
        "  all.append(value1.mean())\n",
        "  name.append(i)\n",
        "  "
      ],
      "execution_count": null,
      "outputs": []
    },
    {
      "cell_type": "code",
      "metadata": {
        "id": "2L9f4bj8wBtk",
        "colab": {
          "base_uri": "https://localhost:8080/"
        },
        "outputId": "1c89787d-514c-4234-8005-1740a804aaff"
      },
      "source": [
        "all,name"
      ],
      "execution_count": null,
      "outputs": [
        {
          "output_type": "execute_result",
          "data": {
            "text/plain": [
              "([50.62714092140924,\n",
              "  176.65147945205482,\n",
              "  995.0135501355013,\n",
              "  33.16866279069773,\n",
              "  7.814519621109609],\n",
              " ['no2', 'pm10', 'co', 'o3', 'so2'])"
            ]
          },
          "metadata": {
            "tags": []
          },
          "execution_count": 25
        }
      ]
    },
    {
      "cell_type": "code",
      "metadata": {
        "colab": {
          "base_uri": "https://localhost:8080/"
        },
        "id": "bxM4ELo0xnwA",
        "outputId": "69de277f-2f57-43b3-b4b8-34754d78843b"
      },
      "source": [
        "all[4],name[4]"
      ],
      "execution_count": null,
      "outputs": [
        {
          "output_type": "execute_result",
          "data": {
            "text/plain": [
              "(7.814519621109609, 'so2')"
            ]
          },
          "metadata": {
            "tags": []
          },
          "execution_count": 24
        }
      ]
    },
    {
      "cell_type": "code",
      "metadata": {
        "id": "OhaiX5gFwHdY"
      },
      "source": [
        "import matplotlib.pyplot as plt\n",
        "fig = plt.figure()\n",
        "ax = fig.add_axes([0,0,1,1])\n",
        "langs = [name[0], name[1],name[2], name[3],name[4]]\n",
        "students = [all[0],all[1],all[2],all[3],all[4]]\n",
        "ax.bar(langs,students)\n",
        "plt.show()"
      ],
      "execution_count": null,
      "outputs": []
    },
    {
      "cell_type": "markdown",
      "metadata": {
        "id": "aq3CUqnIFi1E"
      },
      "source": [
        "PIE CHART"
      ]
    },
    {
      "cell_type": "code",
      "metadata": {
        "colab": {
          "base_uri": "https://localhost:8080/",
          "height": 319
        },
        "id": "BcwhLuNBFm4V",
        "outputId": "ce425baa-68dd-4ed6-b1c9-f004f02cd932"
      },
      "source": [
        "from matplotlib import pyplot as plt\n",
        "import numpy as np\n",
        "fig = plt.figure()\n",
        "ax = fig.add_axes([0,0,1,1])\n",
        "ax.axis('equal')\n",
        "langs = [name[0], name[1], name[2], name[3], name[4]]\n",
        "students = [all[0],all[1],all[2],all[3],all[4]]\n",
        "ax.pie(students, labels = langs,autopct='%1.2f%%')\n",
        "plt.show()"
      ],
      "execution_count": null,
      "outputs": [
        {
          "output_type": "display_data",
          "data": {
            "image/png": "[encoded data removed]",
            "text/plain": [
              "<Figure size 432x288 with 1 Axes>"
            ]
          },
          "metadata": {
            "tags": []
          }
        }
      ]
    },
    {
      "cell_type": "code",
      "metadata": {
        "colab": {
          "base_uri": "https://localhost:8080/",
          "height": 248
        },
        "id": "LcCfEPmCHdIg",
        "outputId": "e2797a79-4f00-4475-efba-0fbd3ef12931"
      },
      "source": [
        "import matplotlib.pyplot as plt\n",
        "\n",
        "# Pie chart, where the slices will be ordered and plotted counter-clockwise:\n",
        "labels = name[0], name[1], name[2], name[3] , name[4]\n",
        "students = [all[0],all[1],all[2],all[3],all[4]]\n",
        "\n",
        "explode = (0.1, 0.0, 0.0, 0.0, 0.0)  # only \"explode\" the 2nd slice (i.e. 'Hogs')\n",
        "\n",
        "fig1, ax1 = plt.subplots()\n",
        "ax1.pie(students, explode=explode, labels=labels, autopct='%1.2f%%',\n",
        "        shadow=True, startangle=90)\n",
        "ax1.axis('equal')  # Equal aspect ratio ensures that pie is drawn as a circle.\n",
        "\n",
        "plt.show()"
      ],
      "execution_count": null,
      "outputs": [
        {
          "output_type": "display_data",
          "data": {
            "image/png": "[encoded data removed]",
            "text/plain": [
              "<Figure size 432x288 with 1 Axes>"
            ]
          },
          "metadata": {
            "tags": []
          }
        }
      ]
    }
  ]
}
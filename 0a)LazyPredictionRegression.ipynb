{
  "nbformat": 4,
  "nbformat_minor": 0,
  "metadata": {
    "colab": {
      "name": "0a)LazyPredictionRegression.ipynb",
      "provenance": [],
      "authorship_tag": "ABX9TyMhGZWwIoIPyb2Ee4Q/Yrai",
      "include_colab_link": true
    },
    "kernelspec": {
      "name": "python3",
      "display_name": "Python 3"
    },
    "language_info": {
      "name": "python"
    }
  },
  "cells": [
    {
      "cell_type": "markdown",
      "metadata": {
        "id": "view-in-github",
        "colab_type": "text"
      },
      "source": [
        "<a href=\"https://colab.research.google.com/github/Naushad13b/Machine-Learning/blob/main/0a)LazyPredictionRegression.ipynb\" target=\"_parent\"><img src=\"https://colab.research.google.com/assets/colab-badge.svg\" alt=\"Open In Colab\"/></a>"
      ]
    },
    {
      "cell_type": "code",
      "execution_count": null,
      "metadata": {
        "id": "egcKOJ7pHMwq"
      },
      "outputs": [],
      "source": [
        "### importing lazypredict library\n",
        "import lazypredict\n",
        "### importing LazyClassifier for classification problem\n",
        "from lazypredict.Supervised import LazyClassifier\n",
        "### importing LazyClassifier for classification problem because here we are solving Classification use case.\n",
        "from lazypredict.Supervised import LazyClassifier\n",
        "### importing breast Cancer Dataset from sklearn\n",
        "from sklearn.datasets import load_breast_cancer\n",
        "### spliting dataset into training and testing part\n",
        "from sklearn.model_selection import train_test_split\n"
      ]
    },
    {
      "cell_type": "code",
      "source": [
        "import pandas as pd\n"
      ],
      "metadata": {
        "id": "mPanqVCxHZ1T"
      },
      "execution_count": null,
      "outputs": []
    },
    {
      "cell_type": "code",
      "source": [
        "#Reading the data\n",
        "df = pd.read_csv(r'/content/Bhiwadi.csv')"
      ],
      "metadata": {
        "id": "QAExX06bVMtx"
      },
      "execution_count": null,
      "outputs": []
    },
    {
      "cell_type": "code",
      "source": [
        "df.info()"
      ],
      "metadata": {
        "colab": {
          "base_uri": "https://localhost:8080/"
        },
        "id": "faWaiXSHH6w0",
        "outputId": "411bd2f3-1652-4dde-ea81-275b5b1e6e5e"
      },
      "execution_count": null,
      "outputs": [
        {
          "output_type": "stream",
          "name": "stdout",
          "text": [
            "<class 'pandas.core.frame.DataFrame'>\n",
            "RangeIndex: 365 entries, 0 to 364\n",
            "Data columns (total 13 columns):\n",
            " #   Column  Non-Null Count  Dtype  \n",
            "---  ------  --------------  -----  \n",
            " 0   Date    365 non-null    object \n",
            " 1   PM2.5   365 non-null    float64\n",
            " 2   PM10    365 non-null    float64\n",
            " 3   NO      365 non-null    float64\n",
            " 4   NO2     365 non-null    float64\n",
            " 5   SO2     365 non-null    float64\n",
            " 6   CO      365 non-null    float64\n",
            " 7   Ozone   365 non-null    float64\n",
            " 8   Temp    365 non-null    float64\n",
            " 9   RH      365 non-null    float64\n",
            " 10  WS      365 non-null    float64\n",
            " 11  WD      365 non-null    float64\n",
            " 12  SR      365 non-null    float64\n",
            "dtypes: float64(12), object(1)\n",
            "memory usage: 37.2+ KB\n"
          ]
        }
      ]
    },
    {
      "cell_type": "code",
      "source": [
        "X = df.iloc[0:,1:]\n",
        "y = df.iloc[0:,:1]#pm2.5 prediction\n"
      ],
      "metadata": {
        "id": "rFxUkml4IgjC"
      },
      "execution_count": null,
      "outputs": []
    },
    {
      "cell_type": "code",
      "source": [
        "### splitting dataset into training and testing part(50% training and 50% testing)\n",
        "X_train, X_test, y_train, y_test = train_test_split(X, y, test_size=.5, random_state =123)"
      ],
      "metadata": {
        "id": "Ethi30gFJgzT"
      },
      "execution_count": null,
      "outputs": []
    },
    {
      "cell_type": "code",
      "source": [
        "clf = LazyClassifier(verbose=0, ignore_warnings=True, custom_metric = None)"
      ],
      "metadata": {
        "id": "w01JrYkxJlTL"
      },
      "execution_count": null,
      "outputs": []
    },
    {
      "cell_type": "code",
      "source": [
        "### fitting data in LazyClassifier\n",
        "models,predictions = clf.fit(X_train, X_test, y_train, y_test)\n",
        "### lets check which model did better on Breast Cancer Dataset\n",
        "print(models)"
      ],
      "metadata": {
        "colab": {
          "base_uri": "https://localhost:8080/"
        },
        "id": "VsPStD-6LItz",
        "outputId": "e370f26a-3eec-41a2-eb95-83d3e823a57b"
      },
      "execution_count": null,
      "outputs": [
        {
          "output_type": "stream",
          "name": "stderr",
          "text": [
            "100%|██████████| 29/29 [00:12<00:00,  2.28it/s]"
          ]
        },
        {
          "output_type": "stream",
          "name": "stdout",
          "text": [
            "                             Accuracy  Balanced Accuracy ROC AUC  F1 Score  \\\n",
            "Model                                                                        \n",
            "AdaBoostClassifier               0.00               0.00    None      0.00   \n",
            "BaggingClassifier                0.00               0.00    None      0.00   \n",
            "XGBClassifier                    0.00               0.00    None      0.00   \n",
            "SVC                              0.00               0.00    None      0.00   \n",
            "SGDClassifier                    0.00               0.00    None      0.00   \n",
            "RidgeClassifierCV                0.00               0.00    None      0.00   \n",
            "RidgeClassifier                  0.00               0.00    None      0.00   \n",
            "RandomForestClassifier           0.00               0.00    None      0.00   \n",
            "Perceptron                       0.00               0.00    None      0.00   \n",
            "PassiveAggressiveClassifier      0.00               0.00    None      0.00   \n",
            "NuSVC                            0.00               0.00    None      0.00   \n",
            "NearestCentroid                  0.00               0.00    None      0.00   \n",
            "LogisticRegression               0.00               0.00    None      0.00   \n",
            "LinearSVC                        0.00               0.00    None      0.00   \n",
            "LabelSpreading                   0.00               0.00    None      0.00   \n",
            "LabelPropagation                 0.00               0.00    None      0.00   \n",
            "KNeighborsClassifier             0.00               0.00    None      0.00   \n",
            "GaussianNB                       0.00               0.00    None      0.00   \n",
            "ExtraTreesClassifier             0.00               0.00    None      0.00   \n",
            "ExtraTreeClassifier              0.00               0.00    None      0.00   \n",
            "DummyClassifier                  0.00               0.00    None      0.00   \n",
            "DecisionTreeClassifier           0.00               0.00    None      0.00   \n",
            "BernoulliNB                      0.00               0.00    None      0.00   \n",
            "LGBMClassifier                   0.00               0.00    None      0.00   \n",
            "\n",
            "                             Time Taken  \n",
            "Model                                    \n",
            "AdaBoostClassifier                 0.72  \n",
            "BaggingClassifier                  0.41  \n",
            "XGBClassifier                      2.27  \n",
            "SVC                                0.13  \n",
            "SGDClassifier                      0.17  \n",
            "RidgeClassifierCV                  0.08  \n",
            "RidgeClassifier                    0.08  \n",
            "RandomForestClassifier             0.91  \n",
            "Perceptron                         0.26  \n",
            "PassiveAggressiveClassifier        0.26  \n",
            "NuSVC                              0.25  \n",
            "NearestCentroid                    0.09  \n",
            "LogisticRegression                 0.79  \n",
            "LinearSVC                          0.28  \n",
            "LabelSpreading                     0.14  \n",
            "LabelPropagation                   0.08  \n",
            "KNeighborsClassifier               0.05  \n",
            "GaussianNB                         0.07  \n",
            "ExtraTreesClassifier               0.64  \n",
            "ExtraTreeClassifier                0.05  \n",
            "DummyClassifier                    0.04  \n",
            "DecisionTreeClassifier             0.15  \n",
            "BernoulliNB                        0.09  \n",
            "LGBMClassifier                     4.46  \n"
          ]
        },
        {
          "output_type": "stream",
          "name": "stderr",
          "text": [
            "\n"
          ]
        }
      ]
    },
    {
      "cell_type": "code",
      "source": [
        "### Importing LazyRegressor\n",
        "from lazypredict.Supervised import LazyRegressor\n",
        "### Importing dataset available in sklearn\n",
        "from sklearn import datasets\n",
        "from sklearn.utils import shuffle\n",
        "import numpy as np"
      ],
      "metadata": {
        "id": "JlK9363ULMkL"
      },
      "execution_count": null,
      "outputs": []
    },
    {
      "cell_type": "code",
      "source": [
        "### storing the Boston dataset in variable\n",
        "boston = datasets.load_boston()"
      ],
      "metadata": {
        "id": "Q24RWuFNLrtj"
      },
      "execution_count": null,
      "outputs": []
    },
    {
      "cell_type": "code",
      "source": [
        "### loading and shuffling the dataset\n",
        "X, y = shuffle(boston.data, boston.target, random_state=13)\n",
        "offset = int(X.shape[0] * 0.9)"
      ],
      "metadata": {
        "id": "OegT7Ab5LupT"
      },
      "execution_count": null,
      "outputs": []
    },
    {
      "cell_type": "code",
      "source": [
        "### splitting dataset into training and testing part.\n",
        "X_train, y_train = X[:offset], y[:offset]\n",
        "X_test, y_test = X[offset:], y[offset:]"
      ],
      "metadata": {
        "id": "alwpIQlMLxiD"
      },
      "execution_count": null,
      "outputs": []
    },
    {
      "cell_type": "code",
      "source": [
        "### fitting data in LazyRegressor because here we are solving Regression use case. \n",
        "reg = LazyRegressor(verbose=0, ignore_warnings=False, custom_metric=None)"
      ],
      "metadata": {
        "id": "wzqWurgxL0SS"
      },
      "execution_count": null,
      "outputs": []
    },
    {
      "cell_type": "code",
      "source": [
        "### fitting data in LazyClassifier\n",
        "models, predictions = reg.fit(X_train, X_test, y_train, y_test)\n",
        "### lets check which model did better on Breast Cancer Dataset\n",
        "print(models)"
      ],
      "metadata": {
        "colab": {
          "base_uri": "https://localhost:8080/"
        },
        "id": "p4vEkw4LL3cj",
        "outputId": "8ed130cc-05f0-409a-f0bd-bdbd2b1f7679"
      },
      "execution_count": null,
      "outputs": [
        {
          "output_type": "stream",
          "name": "stderr",
          "text": [
            "100%|██████████| 42/42 [00:05<00:00,  7.52it/s]"
          ]
        },
        {
          "output_type": "stream",
          "name": "stdout",
          "text": [
            "                               Adjusted R-Squared  R-Squared  RMSE  Time Taken\n",
            "Model                                                                         \n",
            "SVR                                          0.83       0.88  2.62        0.03\n",
            "BaggingRegressor                             0.83       0.88  2.63        0.08\n",
            "NuSVR                                        0.82       0.86  2.76        0.04\n",
            "RandomForestRegressor                        0.81       0.86  2.79        0.41\n",
            "XGBRegressor                                 0.81       0.86  2.79        0.10\n",
            "GradientBoostingRegressor                    0.81       0.86  2.84        0.25\n",
            "ExtraTreesRegressor                          0.79       0.84  2.98        0.47\n",
            "HistGradientBoostingRegressor                0.77       0.83  3.06        1.13\n",
            "AdaBoostRegressor                            0.77       0.83  3.06        0.22\n",
            "PoissonRegressor                             0.77       0.83  3.11        0.02\n",
            "LGBMRegressor                                0.77       0.83  3.11        0.08\n",
            "KNeighborsRegressor                          0.77       0.83  3.12        0.03\n",
            "DecisionTreeRegressor                        0.65       0.74  3.79        0.03\n",
            "MLPRegressor                                 0.65       0.74  3.80        1.27\n",
            "HuberRegressor                               0.64       0.74  3.84        0.06\n",
            "GammaRegressor                               0.64       0.73  3.88        0.03\n",
            "LinearSVR                                    0.62       0.72  3.96        0.03\n",
            "RidgeCV                                      0.62       0.72  3.97        0.02\n",
            "BayesianRidge                                0.62       0.72  3.97        0.02\n",
            "Ridge                                        0.62       0.72  3.97        0.01\n",
            "TransformedTargetRegressor                   0.62       0.72  3.97        0.01\n",
            "LinearRegression                             0.62       0.72  3.97        0.04\n",
            "ElasticNetCV                                 0.62       0.72  3.98        0.12\n",
            "LassoCV                                      0.62       0.72  3.98        0.16\n",
            "LassoLarsIC                                  0.62       0.72  3.98        0.02\n",
            "LassoLarsCV                                  0.62       0.72  3.98        0.05\n",
            "Lars                                         0.61       0.72  3.99        0.07\n",
            "LarsCV                                       0.61       0.71  4.02        0.09\n",
            "SGDRegressor                                 0.60       0.70  4.07        0.01\n",
            "TweedieRegressor                             0.59       0.70  4.12        0.01\n",
            "GeneralizedLinearRegressor                   0.59       0.70  4.12        0.07\n",
            "ElasticNet                                   0.58       0.69  4.16        0.02\n",
            "Lasso                                        0.54       0.66  4.35        0.03\n",
            "RANSACRegressor                              0.53       0.65  4.41        0.10\n",
            "OrthogonalMatchingPursuitCV                  0.45       0.59  4.78        0.03\n",
            "PassiveAggressiveRegressor                   0.37       0.54  5.09        0.02\n",
            "GaussianProcessRegressor                     0.23       0.43  5.65        0.09\n",
            "OrthogonalMatchingPursuit                    0.16       0.38  5.89        0.02\n",
            "ExtraTreeRegressor                           0.08       0.32  6.17        0.02\n",
            "DummyRegressor                              -0.38      -0.02  7.56        0.02\n",
            "LassoLars                                   -0.38      -0.02  7.56        0.03\n",
            "KernelRidge                                -11.50      -8.25 22.74        0.09\n"
          ]
        },
        {
          "output_type": "stream",
          "name": "stderr",
          "text": [
            "\n"
          ]
        }
      ]
    },
    {
      "cell_type": "code",
      "source": [
        ""
      ],
      "metadata": {
        "id": "QSpYiYuY8cvL"
      },
      "execution_count": null,
      "outputs": []
    }
  ]
}
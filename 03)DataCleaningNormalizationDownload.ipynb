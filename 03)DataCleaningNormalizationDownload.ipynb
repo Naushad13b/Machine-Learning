{
  "nbformat": 4,
  "nbformat_minor": 0,
  "metadata": {
    "colab": {
      "name": "03)DataCleaningNormalizationDownload.ipynb",
      "provenance": [],
      "collapsed_sections": [],
      "authorship_tag": "ABX9TyMQEi0gCQzGoVS7JCHZjcJL",
      "include_colab_link": true
    },
    "kernelspec": {
      "name": "python3",
      "display_name": "Python 3"
    },
    "language_info": {
      "name": "python"
    }
  },
  "cells": [
    {
      "cell_type": "markdown",
      "metadata": {
        "id": "view-in-github",
        "colab_type": "text"
      },
      "source": [
        "<a href=\"https://colab.research.google.com/github/Naushad13b/Machine-Learning/blob/main/03)DataCleaningNormalizationDownload.ipynb\" target=\"_parent\"><img src=\"https://colab.research.google.com/assets/colab-badge.svg\" alt=\"Open In Colab\"/></a>"
      ]
    },
    {
      "cell_type": "code",
      "execution_count": null,
      "metadata": {
        "id": "9mBczaiRkFDf"
      },
      "outputs": [],
      "source": [
        "import pandas as pd"
      ]
    },
    {
      "cell_type": "code",
      "source": [
        "data=pd.read_csv(\"Bhiwadi17-21.csv\")"
      ],
      "metadata": {
        "id": "XoM7lRdukWoy"
      },
      "execution_count": null,
      "outputs": []
    },
    {
      "cell_type": "code",
      "source": [
        "data.head()"
      ],
      "metadata": {
        "colab": {
          "base_uri": "https://localhost:8080/",
          "height": 206
        },
        "id": "5DeQM6qwkbIi",
        "outputId": "dbfabe75-720d-4964-926d-e2ccc13d6d98"
      },
      "execution_count": null,
      "outputs": [
        {
          "output_type": "execute_result",
          "data": {
            "text/plain": [
              "          From Date           To Date   PM2.5    PM10     NO2     SO2    CO  \\\n",
              "0  17-10-2017 00:00  18-10-2017 00:00  142.91  583.89  100.53  172.35  1.42   \n",
              "1  18-10-2017 00:00  19-10-2017 00:00  182.46  431.33   80.65   59.88  1.01   \n",
              "2  19-10-2017 00:00  20-10-2017 00:00  268.01  400.41   74.95   37.55  1.07   \n",
              "3  20-10-2017 00:00  21-10-2017 00:00  254.79  280.44   59.43   21.04  0.96   \n",
              "4  21-10-2017 00:00  22-10-2017 00:00   288.7  362.84   90.75   60.34  1.05   \n",
              "\n",
              "   Ozone   Temp     RH    WS      WD      SR  \n",
              "0  50.59  30.74  25.48   1.4  253.25  -99.99  \n",
              "1  46.94  27.25  40.72  1.36  237.65  -99.99  \n",
              "2  70.18  28.01  44.63  1.11  176.48  -99.99  \n",
              "3  57.11  28.56  40.79  1.14  189.95  -99.99  \n",
              "4  57.99   27.5  40.27  1.25  222.88  -99.99  "
            ],
            "text/html": [
              "\n",
              "  <div id=\"df-4ef8ea01-8189-496e-a91f-1e806e4078d3\">\n",
              "    <div class=\"colab-df-container\">\n",
              "      <div>\n",
              "<style scoped>\n",
              "    .dataframe tbody tr th:only-of-type {\n",
              "        vertical-align: middle;\n",
              "    }\n",
              "\n",
              "    .dataframe tbody tr th {\n",
              "        vertical-align: top;\n",
              "    }\n",
              "\n",
              "    .dataframe thead th {\n",
              "        text-align: right;\n",
              "    }\n",
              "</style>\n",
              "<table border=\"1\" class=\"dataframe\">\n",
              "  <thead>\n",
              "    <tr style=\"text-align: right;\">\n",
              "      <th></th>\n",
              "      <th>From Date</th>\n",
              "      <th>To Date</th>\n",
              "      <th>PM2.5</th>\n",
              "      <th>PM10</th>\n",
              "      <th>NO2</th>\n",
              "      <th>SO2</th>\n",
              "      <th>CO</th>\n",
              "      <th>Ozone</th>\n",
              "      <th>Temp</th>\n",
              "      <th>RH</th>\n",
              "      <th>WS</th>\n",
              "      <th>WD</th>\n",
              "      <th>SR</th>\n",
              "    </tr>\n",
              "  </thead>\n",
              "  <tbody>\n",
              "    <tr>\n",
              "      <th>0</th>\n",
              "      <td>17-10-2017 00:00</td>\n",
              "      <td>18-10-2017 00:00</td>\n",
              "      <td>142.91</td>\n",
              "      <td>583.89</td>\n",
              "      <td>100.53</td>\n",
              "      <td>172.35</td>\n",
              "      <td>1.42</td>\n",
              "      <td>50.59</td>\n",
              "      <td>30.74</td>\n",
              "      <td>25.48</td>\n",
              "      <td>1.4</td>\n",
              "      <td>253.25</td>\n",
              "      <td>-99.99</td>\n",
              "    </tr>\n",
              "    <tr>\n",
              "      <th>1</th>\n",
              "      <td>18-10-2017 00:00</td>\n",
              "      <td>19-10-2017 00:00</td>\n",
              "      <td>182.46</td>\n",
              "      <td>431.33</td>\n",
              "      <td>80.65</td>\n",
              "      <td>59.88</td>\n",
              "      <td>1.01</td>\n",
              "      <td>46.94</td>\n",
              "      <td>27.25</td>\n",
              "      <td>40.72</td>\n",
              "      <td>1.36</td>\n",
              "      <td>237.65</td>\n",
              "      <td>-99.99</td>\n",
              "    </tr>\n",
              "    <tr>\n",
              "      <th>2</th>\n",
              "      <td>19-10-2017 00:00</td>\n",
              "      <td>20-10-2017 00:00</td>\n",
              "      <td>268.01</td>\n",
              "      <td>400.41</td>\n",
              "      <td>74.95</td>\n",
              "      <td>37.55</td>\n",
              "      <td>1.07</td>\n",
              "      <td>70.18</td>\n",
              "      <td>28.01</td>\n",
              "      <td>44.63</td>\n",
              "      <td>1.11</td>\n",
              "      <td>176.48</td>\n",
              "      <td>-99.99</td>\n",
              "    </tr>\n",
              "    <tr>\n",
              "      <th>3</th>\n",
              "      <td>20-10-2017 00:00</td>\n",
              "      <td>21-10-2017 00:00</td>\n",
              "      <td>254.79</td>\n",
              "      <td>280.44</td>\n",
              "      <td>59.43</td>\n",
              "      <td>21.04</td>\n",
              "      <td>0.96</td>\n",
              "      <td>57.11</td>\n",
              "      <td>28.56</td>\n",
              "      <td>40.79</td>\n",
              "      <td>1.14</td>\n",
              "      <td>189.95</td>\n",
              "      <td>-99.99</td>\n",
              "    </tr>\n",
              "    <tr>\n",
              "      <th>4</th>\n",
              "      <td>21-10-2017 00:00</td>\n",
              "      <td>22-10-2017 00:00</td>\n",
              "      <td>288.7</td>\n",
              "      <td>362.84</td>\n",
              "      <td>90.75</td>\n",
              "      <td>60.34</td>\n",
              "      <td>1.05</td>\n",
              "      <td>57.99</td>\n",
              "      <td>27.5</td>\n",
              "      <td>40.27</td>\n",
              "      <td>1.25</td>\n",
              "      <td>222.88</td>\n",
              "      <td>-99.99</td>\n",
              "    </tr>\n",
              "  </tbody>\n",
              "</table>\n",
              "</div>\n",
              "      <button class=\"colab-df-convert\" onclick=\"convertToInteractive('df-4ef8ea01-8189-496e-a91f-1e806e4078d3')\"\n",
              "              title=\"Convert this dataframe to an interactive table.\"\n",
              "              style=\"display:none;\">\n",
              "        \n",
              "  <svg xmlns=\"http://www.w3.org/2000/svg\" height=\"24px\"viewBox=\"0 0 24 24\"\n",
              "       width=\"24px\">\n",
              "    <path d=\"M0 0h24v24H0V0z\" fill=\"none\"/>\n",
              "    <path d=\"M18.56 5.44l.94 2.06.94-2.06 2.06-.94-2.06-.94-.94-2.06-.94 2.06-2.06.94zm-11 1L8.5 8.5l.94-2.06 2.06-.94-2.06-.94L8.5 2.5l-.94 2.06-2.06.94zm10 10l.94 2.06.94-2.06 2.06-.94-2.06-.94-.94-2.06-.94 2.06-2.06.94z\"/><path d=\"M17.41 7.96l-1.37-1.37c-.4-.4-.92-.59-1.43-.59-.52 0-1.04.2-1.43.59L10.3 9.45l-7.72 7.72c-.78.78-.78 2.05 0 2.83L4 21.41c.39.39.9.59 1.41.59.51 0 1.02-.2 1.41-.59l7.78-7.78 2.81-2.81c.8-.78.8-2.07 0-2.86zM5.41 20L4 18.59l7.72-7.72 1.47 1.35L5.41 20z\"/>\n",
              "  </svg>\n",
              "      </button>\n",
              "      \n",
              "  <style>\n",
              "    .colab-df-container {\n",
              "      display:flex;\n",
              "      flex-wrap:wrap;\n",
              "      gap: 12px;\n",
              "    }\n",
              "\n",
              "    .colab-df-convert {\n",
              "      background-color: #E8F0FE;\n",
              "      border: none;\n",
              "      border-radius: 50%;\n",
              "      cursor: pointer;\n",
              "      display: none;\n",
              "      fill: #1967D2;\n",
              "      height: 32px;\n",
              "      padding: 0 0 0 0;\n",
              "      width: 32px;\n",
              "    }\n",
              "\n",
              "    .colab-df-convert:hover {\n",
              "      background-color: #E2EBFA;\n",
              "      box-shadow: 0px 1px 2px rgba(60, 64, 67, 0.3), 0px 1px 3px 1px rgba(60, 64, 67, 0.15);\n",
              "      fill: #174EA6;\n",
              "    }\n",
              "\n",
              "    [theme=dark] .colab-df-convert {\n",
              "      background-color: #3B4455;\n",
              "      fill: #D2E3FC;\n",
              "    }\n",
              "\n",
              "    [theme=dark] .colab-df-convert:hover {\n",
              "      background-color: #434B5C;\n",
              "      box-shadow: 0px 1px 3px 1px rgba(0, 0, 0, 0.15);\n",
              "      filter: drop-shadow(0px 1px 2px rgba(0, 0, 0, 0.3));\n",
              "      fill: #FFFFFF;\n",
              "    }\n",
              "  </style>\n",
              "\n",
              "      <script>\n",
              "        const buttonEl =\n",
              "          document.querySelector('#df-4ef8ea01-8189-496e-a91f-1e806e4078d3 button.colab-df-convert');\n",
              "        buttonEl.style.display =\n",
              "          google.colab.kernel.accessAllowed ? 'block' : 'none';\n",
              "\n",
              "        async function convertToInteractive(key) {\n",
              "          const element = document.querySelector('#df-4ef8ea01-8189-496e-a91f-1e806e4078d3');\n",
              "          const dataTable =\n",
              "            await google.colab.kernel.invokeFunction('convertToInteractive',\n",
              "                                                     [key], {});\n",
              "          if (!dataTable) return;\n",
              "\n",
              "          const docLinkHtml = 'Like what you see? Visit the ' +\n",
              "            '<a target=\"_blank\" href=https://colab.research.google.com/notebooks/data_table.ipynb>data table notebook</a>'\n",
              "            + ' to learn more about interactive tables.';\n",
              "          element.innerHTML = '';\n",
              "          dataTable['output_type'] = 'display_data';\n",
              "          await google.colab.output.renderOutput(dataTable, element);\n",
              "          const docLink = document.createElement('div');\n",
              "          docLink.innerHTML = docLinkHtml;\n",
              "          element.appendChild(docLink);\n",
              "        }\n",
              "      </script>\n",
              "    </div>\n",
              "  </div>\n",
              "  "
            ]
          },
          "metadata": {},
          "execution_count": 3
        }
      ]
    },
    {
      "cell_type": "code",
      "source": [
        "#sum to count the NaN values.\n",
        "data.isna().sum()"
      ],
      "metadata": {
        "colab": {
          "base_uri": "https://localhost:8080/"
        },
        "id": "sGbxqefslCeB",
        "outputId": "66f065bc-3447-4324-c046-b89e9817712b"
      },
      "execution_count": null,
      "outputs": [
        {
          "output_type": "execute_result",
          "data": {
            "text/plain": [
              "From Date    0\n",
              "To Date      0\n",
              "PM2.5        0\n",
              "PM10         0\n",
              "NO2          0\n",
              "SO2          0\n",
              "CO           0\n",
              "Ozone        0\n",
              "Temp         0\n",
              "RH           0\n",
              "WS           0\n",
              "WD           0\n",
              "SR           0\n",
              "dtype: int64"
            ]
          },
          "metadata": {},
          "execution_count": 4
        }
      ]
    },
    {
      "cell_type": "code",
      "source": [
        "#Mean - missed value\n",
        "import numpy as np\n",
        "data[\"PM2.5\"] = data[\"PM2.5\"].replace(np.None, data[\"PM2.5\"].mean())"
      ],
      "metadata": {
        "id": "iwGNaEUQkfx-"
      },
      "execution_count": null,
      "outputs": []
    },
    {
      "cell_type": "code",
      "source": [
        "l=[\"PM2.5\",\"PM10\",\"NO\",\"NO2\",\"SO2\",\"CO\",\"Ozone\",\"RH\",\"WS\",\"WD\",\"SR\"]\n",
        "for i in l:\n",
        "  change(i)"
      ],
      "metadata": {
        "id": "biJjoTK6O7Si"
      },
      "execution_count": null,
      "outputs": []
    },
    {
      "cell_type": "code",
      "source": [
        "def change(a):\n",
        "  data[a] = data[a].replace('', np.Nan, inplace=True)"
      ],
      "metadata": {
        "id": "KQFDNYThdG2J"
      },
      "execution_count": null,
      "outputs": []
    },
    {
      "cell_type": "code",
      "source": [
        "def change(a):\n",
        "  data[a] = data[a].replace(np.NaN, data[a].mean())"
      ],
      "metadata": {
        "id": "4l1xPj0mmZzP"
      },
      "execution_count": null,
      "outputs": []
    },
    {
      "cell_type": "code",
      "source": [
        "l=[\"PM2.5\",\"PM10\",\"NO\",\"NO2\",\"SO2\",\"CO\",\"Ozone\",\"RH\",\"WS\",\"WD\",\"SR\"]\n",
        "for i in l:\n",
        "  change(i)"
      ],
      "metadata": {
        "id": "pCOLjIhXnGhg"
      },
      "execution_count": null,
      "outputs": []
    },
    {
      "cell_type": "code",
      "source": [
        "# downloading csv file\n",
        "cities = pd.DataFrame(data)\n",
        "cities.to_csv('cities1.csv')"
      ],
      "metadata": {
        "id": "mjAuN8HBnwII"
      },
      "execution_count": null,
      "outputs": []
    },
    {
      "cell_type": "code",
      "source": [
        "df2 = data.mean()\n",
        "print(df2)\n",
        "\n",
        "# Using multiple columns mean using DataFrame.mean()\n",
        "df2 = data[[\"PM10\",\"PM2.5\"]].mean()\n",
        "print(df2)"
      ],
      "metadata": {
        "colab": {
          "base_uri": "https://localhost:8080/"
        },
        "id": "RUxQYJGSWBQs",
        "outputId": "429e744e-c44b-46c2-9ad2-932b8ffdcd2d"
      },
      "execution_count": null,
      "outputs": [
        {
          "output_type": "stream",
          "name": "stdout",
          "text": [
            "PM2.5     69.734094\n",
            "PM10     155.070685\n",
            "NO        17.445751\n",
            "NO2       32.222469\n",
            "SO2        7.838751\n",
            "CO         1.114638\n",
            "Ozone     32.914319\n",
            "RH        72.656907\n",
            "WS         0.428071\n",
            "WD       183.178572\n",
            "SR       145.392100\n",
            "dtype: float64\n",
            "PM10     155.070685\n",
            "PM2.5     69.734094\n",
            "dtype: float64\n"
          ]
        }
      ]
    },
    {
      "cell_type": "code",
      "source": [
        "data.isna().sum()"
      ],
      "metadata": {
        "colab": {
          "base_uri": "https://localhost:8080/"
        },
        "id": "s1iSGR6-ag0z",
        "outputId": "3804c958-b8f2-4516-874d-3a155c826ccb"
      },
      "execution_count": null,
      "outputs": [
        {
          "output_type": "execute_result",
          "data": {
            "text/plain": [
              "PM2.5    0\n",
              "PM10     0\n",
              "NO       0\n",
              "NO2      0\n",
              "SO2      0\n",
              "CO       0\n",
              "Ozone    0\n",
              "RH       0\n",
              "WS       0\n",
              "WD       0\n",
              "SR       0\n",
              "dtype: int64"
            ]
          },
          "metadata": {},
          "execution_count": 11
        }
      ]
    }
  ]
}